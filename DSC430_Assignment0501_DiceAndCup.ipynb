{
 "cells": [
  {
   "cell_type": "markdown",
   "id": "487c0f88",
   "metadata": {},
   "source": [
    "# JITEN MISHRA DSC430_Assignment0501_DiceAndCup\n",
    "## I have not given or received any unauthorized assistance on this assignment.\n",
    "\n",
    "\n",
    "### Inheritance Logic\n",
    "* Class SixSidedDie is the base class with functions roll(), getFaceValue() and \\__repr__()\n",
    "* Class TenSidedDie and TwentySidedDie extends class SixSidedDie with a overriding function \\__repr__() each\n",
    "* Both the TenSideDie and TwentySideDie inherits the properties of the base class SixSidedDie.\n",
    "* **Note:** Each class has its own class level variable for sides , we could also do that by creating \\__init__() constructor and initializing the sides.\n",
    "\n",
    "### Composition\n",
    "* The Cup Class gets initialized with the numbers of each sided dices as 1(default)\n",
    "* It creates lists of each type of class objects in the initialization.\n",
    "    - lsSixSideObj[] - holding class objects of SixSidedDie\n",
    "    - lsTenSideObj[] - holding class objects of TenSideDie\n",
    "    - lsTwnetySideObj[] - holding class objects of TwentySidedDie\n",
    "* The function roll() loops through these object compositions and creates individual list of faceValues\n",
    "* The function sum() adds up all the facevalues of each sided die and gives the total sum.\n",
    "* The function \\__repr__() also loops over these compositions and creates a formatted string as desired in the output.\n",
    "\n",
    "**So the Cup class is the component class which has a relation to the composite classes ( SixSidedDie, TenSidedDie, TwentySidedDie) in the form of list objects of each composite class.** "
   ]
  },
  {
   "cell_type": "code",
   "execution_count": 1,
   "id": "fa3ee4e1",
   "metadata": {},
   "outputs": [],
   "source": [
    "import random\n",
    "class SixSidedDie:\n",
    "    \"\"\"\n",
    "    Class that represents a six sided dice\n",
    "    \"\"\"\n",
    "    \n",
    "    # class variable for 6 sides \n",
    "    sides = 6\n",
    "    \n",
    "    def roll(self):\n",
    "        \"\"\"\n",
    "        Roll the dice and return the value\n",
    "        \"\"\"\n",
    "        \n",
    "        # set a random value as the rolled die\n",
    "        self.rollDie = random.randint(1, self.sides)\n",
    "        \n",
    "        return self.rollDie\n",
    "     \n",
    "    def getFaceValue(self):\n",
    "        \"\"\"\n",
    "        Return the face value of the die\n",
    "        \"\"\"\n",
    "        \n",
    "        return self.rollDie\n",
    "    \n",
    "    def __repr__(self):\n",
    "        \"\"\"\n",
    "        Returns the formatted string\n",
    "        \"\"\"\n",
    "        \n",
    "        # intializing the variable with formatted string\n",
    "        strg = \"SixSidedDie({})\".format(self.rollDie)\n",
    "        \n",
    "        return strg\n"
   ]
  },
  {
   "cell_type": "code",
   "execution_count": 2,
   "id": "1a01d852",
   "metadata": {},
   "outputs": [
    {
     "name": "stdout",
     "output_type": "stream",
     "text": [
      "The Rolled Dice value is::: 4\n",
      "The Facevalue is::: 4\n"
     ]
    },
    {
     "data": {
      "text/plain": [
       "SixSidedDie(4)"
      ]
     },
     "execution_count": 2,
     "metadata": {},
     "output_type": "execute_result"
    }
   ],
   "source": [
    "# unitTest1 for class SixSidedDie\n",
    "sd = SixSidedDie()\n",
    "print(\"The Rolled Dice value is::: \" + str(sd.roll()))\n",
    "print(\"The Facevalue is::: \"+ str(sd.getFaceValue()))\n",
    "sd"
   ]
  },
  {
   "cell_type": "code",
   "execution_count": 3,
   "id": "1511db92",
   "metadata": {},
   "outputs": [
    {
     "name": "stdout",
     "output_type": "stream",
     "text": [
      "The Rolled Dice value is::: 2\n",
      "The Facevalue is::: 2\n"
     ]
    },
    {
     "data": {
      "text/plain": [
       "SixSidedDie(2)"
      ]
     },
     "execution_count": 3,
     "metadata": {},
     "output_type": "execute_result"
    }
   ],
   "source": [
    "# unitTest2 for class SixSidedDie\n",
    "sd = SixSidedDie()\n",
    "print(\"The Rolled Dice value is::: \" + str(sd.roll()))\n",
    "print(\"The Facevalue is::: \"+ str(sd.getFaceValue()))\n",
    "sd"
   ]
  },
  {
   "cell_type": "code",
   "execution_count": 4,
   "id": "b9d9579e",
   "metadata": {},
   "outputs": [],
   "source": [
    "class TenSidedDie(SixSidedDie):\n",
    "    \"\"\"\n",
    "    Class that represents a ten sided dice extends class SixSidedDie\n",
    "    \"\"\"\n",
    "    \n",
    "    # class variable for 10 sides\n",
    "    sides = 10\n",
    "    \n",
    "    def __repr__(self):\n",
    "        \"\"\"Returns the formatted string\"\"\"\n",
    "        \n",
    "        # intializing the variable with formatted string\n",
    "        strg = \"TenSidedDie({})\".format(self.rollDie)\n",
    "        \n",
    "        return strg\n"
   ]
  },
  {
   "cell_type": "code",
   "execution_count": 5,
   "id": "48cd7592",
   "metadata": {},
   "outputs": [
    {
     "name": "stdout",
     "output_type": "stream",
     "text": [
      "The Rolled Dice value is::: 4\n",
      "The Facevalue is::: 4\n"
     ]
    },
    {
     "data": {
      "text/plain": [
       "TenSidedDie(4)"
      ]
     },
     "execution_count": 5,
     "metadata": {},
     "output_type": "execute_result"
    }
   ],
   "source": [
    "# unitTest1 for class TenSidedDie\n",
    "td = TenSidedDie()\n",
    "print(\"The Rolled Dice value is::: \" + str(td.roll()))\n",
    "print(\"The Facevalue is::: \"+ str(td.getFaceValue()))\n",
    "td"
   ]
  },
  {
   "cell_type": "code",
   "execution_count": 6,
   "id": "a4ba9393",
   "metadata": {},
   "outputs": [
    {
     "name": "stdout",
     "output_type": "stream",
     "text": [
      "The Rolled Dice value is::: 6\n",
      "The Facevalue is::: 6\n"
     ]
    },
    {
     "data": {
      "text/plain": [
       "TenSidedDie(6)"
      ]
     },
     "execution_count": 6,
     "metadata": {},
     "output_type": "execute_result"
    }
   ],
   "source": [
    "# unitTest2 for class TenSidedDie\n",
    "td = TenSidedDie()\n",
    "print(\"The Rolled Dice value is::: \" + str(td.roll()))\n",
    "print(\"The Facevalue is::: \"+ str(td.getFaceValue()))\n",
    "td"
   ]
  },
  {
   "cell_type": "code",
   "execution_count": 7,
   "id": "9a211262",
   "metadata": {},
   "outputs": [],
   "source": [
    "class TwentySidedDie(SixSidedDie):\n",
    "    \"\"\"\n",
    "    Class that represents a twenty sided dice extends class SixSidedDie\n",
    "    \"\"\"\n",
    "    \n",
    "    # class variable for 20 sides\n",
    "    sides = 20\n",
    "    \n",
    "    def __repr__(self):\n",
    "        \"\"\"Returns the formatted string\"\"\"\n",
    "        \n",
    "        # intializing the variable with formatted string\n",
    "        strg = \"TwentySidedDie({})\".format(self.rollDie)\n",
    "        \n",
    "        return strg\n"
   ]
  },
  {
   "cell_type": "code",
   "execution_count": 8,
   "id": "de3617cf",
   "metadata": {},
   "outputs": [
    {
     "name": "stdout",
     "output_type": "stream",
     "text": [
      "The Rolled Dice value is::: 4\n",
      "The Facevalue is::: 4\n"
     ]
    },
    {
     "data": {
      "text/plain": [
       "TwentySidedDie(4)"
      ]
     },
     "execution_count": 8,
     "metadata": {},
     "output_type": "execute_result"
    }
   ],
   "source": [
    "# unitTest1 for class TwentySidedDie\n",
    "tw = TwentySidedDie()\n",
    "print(\"The Rolled Dice value is::: \" + str(tw.roll()))\n",
    "print(\"The Facevalue is::: \"+ str(tw.getFaceValue()))\n",
    "tw"
   ]
  },
  {
   "cell_type": "code",
   "execution_count": 9,
   "id": "560c1935",
   "metadata": {},
   "outputs": [
    {
     "name": "stdout",
     "output_type": "stream",
     "text": [
      "The Rolled Dice value is::: 8\n",
      "The Facevalue is::: 8\n"
     ]
    },
    {
     "data": {
      "text/plain": [
       "TwentySidedDie(8)"
      ]
     },
     "execution_count": 9,
     "metadata": {},
     "output_type": "execute_result"
    }
   ],
   "source": [
    "# unitTest2 for class TwentySidedDie\n",
    "tw = TwentySidedDie()\n",
    "print(\"The Rolled Dice value is::: \" + str(tw.roll()))\n",
    "print(\"The Facevalue is::: \"+ str(tw.getFaceValue()))\n",
    "tw"
   ]
  },
  {
   "cell_type": "code",
   "execution_count": 15,
   "id": "ce04723e",
   "metadata": {},
   "outputs": [],
   "source": [
    "class Cup:\n",
    "    \"\"\"\n",
    "    Class that represents a cup holding dices\n",
    "    \"\"\"\n",
    "    \n",
    "    def __init__(self, sixSide = 1, tenSide = 1, twentySide = 1):\n",
    "        \"\"\"\n",
    "        Initiallize the cup with the no.of each side having default as 1\n",
    "        \"\"\"\n",
    "        \n",
    "        # create list of each type of the dice objects\n",
    "        self.lsSixSideObj = [SixSidedDie() for i in range(0,sixSide) ]\n",
    "        self.lsTenSideObj = [TenSidedDie() for i in range(0,tenSide) ]\n",
    "        self.lsTwentySideObj = [TwentySidedDie() for i in range(0,twentySide) ]\n",
    "        \n",
    "    def roll(self):\n",
    "        \"\"\"\n",
    "        Roll the dice for each sided dice\n",
    "        \"\"\"\n",
    "        \n",
    "        # create list to hold the face values of each side dice\n",
    "        # calls the createRollDiceList class method to get the list\n",
    "        self.sideNum = Cup.createRollDiceList(self.lsSixSideObj)\n",
    "        self.sideNum += Cup.createRollDiceList(self.lsTenSideObj)\n",
    "        self.sideNum += Cup.createRollDiceList(self.lsTwentySideObj)\n",
    "        \n",
    "        return sum(self.sideNum) \n",
    "        \n",
    "    def getSum(self):\n",
    "        \"\"\"\n",
    "        Returns the sum of all the rolled dice of each type together\n",
    "        \"\"\"\n",
    "        \n",
    "        # sum up the values of all sided dice\n",
    "        sumDie = sum(self.sideNum)\n",
    "        \n",
    "        return sumDie\n",
    "    \n",
    "    def __repr__(self):\n",
    "        \"\"\"\n",
    "        Returns the formatted string for the output\n",
    "        \"\"\"\n",
    "        \n",
    "        # initilize the strings for poper formating \n",
    "        stg1= \"\"\n",
    "        \n",
    "        # call the class method appendString \n",
    "        # to get each string representation of the lists values\n",
    "        stg1 += Cup.appendString(self.lsSixSideObj)\n",
    "        stg1 += Cup.appendString(self.lsTenSideObj)\n",
    "        stg1 += Cup.appendString(self.lsTwentySideObj)\n",
    "        \n",
    "        # formated string exluding last two space \", \"\n",
    "        stg1 = \"Cup({})\".format(stg1[:-2])\n",
    "        \n",
    "        return stg1\n",
    "    \n",
    "    def createRollDiceList(lsDiceObj):\n",
    "        \"\"\"\n",
    "        Function to create and return a list of face values\n",
    "        \"\"\"\n",
    "        \n",
    "        # initilize the list as empty\n",
    "        lsSideNum = []\n",
    "        \n",
    "        # loop through the object roll the dice \n",
    "        # and append the value to the list\n",
    "        for ss in lsDiceObj:\n",
    "            ss.roll()\n",
    "            lsSideNum.append(ss.getFaceValue())\n",
    "        \n",
    "        return lsSideNum\n",
    "         \n",
    "\n",
    "    def appendString(lsDiceObj):\n",
    "        \"\"\"\n",
    "        Returns the sting representation of the list dice\n",
    "        \"\"\"\n",
    "        \n",
    "        # initilize a empty string to hold the formatted string\n",
    "        stg= \"\"\n",
    "        \n",
    "        # loop through the dice object \n",
    "        # and create a concatenated string format\n",
    "        for ssp in lsDiceObj:\n",
    "            stg +=ssp.__repr__()+\", \"\n",
    "        \n",
    "        return stg       \n",
    "    "
   ]
  },
  {
   "cell_type": "code",
   "execution_count": 11,
   "id": "bc931b85",
   "metadata": {},
   "outputs": [
    {
     "name": "stdout",
     "output_type": "stream",
     "text": [
      "52\n",
      "The Sum of all the dice is ::: 52\n"
     ]
    },
    {
     "data": {
      "text/plain": [
       "Cup(SixSidedDie(6), TenSidedDie(9), TenSidedDie(6), TenSidedDie(9), TenSidedDie(7), TenSidedDie(6), TwentySidedDie(2), TwentySidedDie(7))"
      ]
     },
     "execution_count": 11,
     "metadata": {},
     "output_type": "execute_result"
    }
   ],
   "source": [
    "# Unit Test for class Cup\n",
    "cp = Cup(1,5,2)\n",
    "print(cp.roll())\n",
    "print(\"The Sum of all the dice is ::: \"+ str(cp.getSum()))\n",
    "cp"
   ]
  },
  {
   "cell_type": "code",
   "execution_count": 12,
   "id": "6f07e6fa",
   "metadata": {
    "scrolled": true
   },
   "outputs": [
    {
     "name": "stdout",
     "output_type": "stream",
     "text": [
      "0\n",
      "The Sum of all the dice is ::: 0\n"
     ]
    },
    {
     "data": {
      "text/plain": [
       "Cup()"
      ]
     },
     "execution_count": 12,
     "metadata": {},
     "output_type": "execute_result"
    }
   ],
   "source": [
    "# Unit Test for class Cup\n",
    "cp = Cup(0,0,0)\n",
    "print(cp.roll())\n",
    "print(\"The Sum of all the dice is ::: \"+ str(cp.getSum()))\n",
    "cp"
   ]
  },
  {
   "cell_type": "code",
   "execution_count": 13,
   "id": "56960634",
   "metadata": {},
   "outputs": [
    {
     "name": "stdout",
     "output_type": "stream",
     "text": [
      "62\n",
      "The Sum of all the dice is ::: 62\n"
     ]
    },
    {
     "data": {
      "text/plain": [
       "Cup(SixSidedDie(1), SixSidedDie(1), SixSidedDie(1), TenSidedDie(4), TenSidedDie(1), TwentySidedDie(12), TwentySidedDie(10), TwentySidedDie(10), TwentySidedDie(5), TwentySidedDie(17))"
      ]
     },
     "execution_count": 13,
     "metadata": {},
     "output_type": "execute_result"
    }
   ],
   "source": [
    "# Unit Test for class Cup\n",
    "cp = Cup(3,2,5)\n",
    "print(cp.roll())\n",
    "print(\"The Sum of all the dice is ::: \"+ str(cp.getSum()))\n",
    "cp"
   ]
  },
  {
   "cell_type": "code",
   "execution_count": 19,
   "id": "c0d71e0b",
   "metadata": {},
   "outputs": [
    {
     "name": "stdout",
     "output_type": "stream",
     "text": [
      "25\n",
      "The Sum of all the dice is ::: 25\n"
     ]
    },
    {
     "data": {
      "text/plain": [
       "Cup(SixSidedDie(1), TenSidedDie(1), TenSidedDie(2), TwentySidedDie(1), TwentySidedDie(11), TwentySidedDie(9))"
      ]
     },
     "execution_count": 19,
     "metadata": {},
     "output_type": "execute_result"
    }
   ],
   "source": [
    "cp = Cup(1,2,3)\n",
    "print(cp.roll())\n",
    "print(\"The Sum of all the dice is ::: \"+ str(cp.getSum()))\n",
    "cp"
   ]
  }
 ],
 "metadata": {
  "kernelspec": {
   "display_name": "Python 3 (ipykernel)",
   "language": "python",
   "name": "python3"
  },
  "language_info": {
   "codemirror_mode": {
    "name": "ipython",
    "version": 3
   },
   "file_extension": ".py",
   "mimetype": "text/x-python",
   "name": "python",
   "nbconvert_exporter": "python",
   "pygments_lexer": "ipython3",
   "version": "3.9.13"
  }
 },
 "nbformat": 4,
 "nbformat_minor": 5
}
