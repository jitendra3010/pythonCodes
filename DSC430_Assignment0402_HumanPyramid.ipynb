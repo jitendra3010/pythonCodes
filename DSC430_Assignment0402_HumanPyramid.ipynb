{
 "cells": [
  {
   "cell_type": "markdown",
   "id": "b6d34bba",
   "metadata": {},
   "source": [
    "# JITEN MISHRA DSC430_Assignment0402_HumanPyramid\n",
    "## I have not given or received any unauthorized assistance on this assignment.\n",
    "\n",
    "#### Program to calculate the weight on a person from the top level in a human Pyramid Structure recusively.\n",
    "\n",
    "* Base case of the recursive function ?\n",
    "    - The base case is the person A at the top most level who has no weight on him.\n",
    "* Does everyone in the bottom row carry the same weight? Why or why not? If not, are there any\n",
    "that carry the same weight?\n",
    "    - No everyon in the bottom row do not carry the same weight, because the left most and right most person get weight from only one person from above them while other get weight from two persons above them.\n",
    "    - From the human pyramid of 5 level (row 0-4) provided in the assignment question person L(4,1) and N(4,3) carry the same weight in the bottom row.\n",
    "    - In generic the person beside the left most and right most person carry the same weight , the person beside the center person carry the same weight and if there is no center two person in the center carry the same weight.\n",
    "        - For Ex: At a row level 5 , (5,1) and (5,4) carry the same weight , (5,2) and (5,3) carry the same weight (No Center scenario)\n",
    "        - At a row level 6 , (6,1) and (6,5) carry the same weight, (6,2) and (6,4) carry the same weight , (6,3) is the center that carries the maximum weight."
   ]
  },
  {
   "cell_type": "code",
   "execution_count": 1,
   "id": "283433dc",
   "metadata": {},
   "outputs": [],
   "source": [
    "def main():\n",
    "    \"\"\"\n",
    "    Function being called to run the logic.\n",
    "    This prints a greeting message.\n",
    "    Receives Input from user for position of the the person\n",
    "    Calls the human pyramid to get the weight on that person\n",
    "    And prints the output at the end.\n",
    "    \"\"\"\n",
    "    \n",
    "    # Print a greeting message\n",
    "    printGreetings()\n",
    "    \n",
    "    # Get the input from the user for the position of the person\n",
    "    row,col = getInput()\n",
    "    \n",
    "    # Call the humanPyramid by passing the row and column and get the weight on the person\n",
    "    weight = humanPyramid(row,col) \n",
    "    \n",
    "    # Call the printOutput function\n",
    "    printOutput(row,col,weight)\n"
   ]
  },
  {
   "cell_type": "code",
   "execution_count": 2,
   "id": "45fd571c",
   "metadata": {},
   "outputs": [],
   "source": [
    "def printGreetings():\n",
    "    \"\"\" \n",
    "    Function to print the greeting message with information \n",
    "    \"\"\"\n",
    "    \n",
    "    print('%80s' % \"******** WELCOME TO THE HUMAR PYRAMID CALCULATION  ********\")\n",
    "    print(\"\\n-> This program takes as input the row and column number of a person in a human pyramid.\")\n",
    "    print(\"\\n-> Then returns the total weight on that person's back.\")\n",
    "    print(\"\\n-> The weight of each person is 128 pounds.\")\n",
    "    print(\"\\n-> And the weight of each person is equally passed on to the person below and so on.\")\n",
    "    print(\"\\n-> The row and column are each zero-indexed, the person at row 0, column 0 is on top of the pyramid.\")\n",
    "    print(\"\\n\\n ASSUMPTION : *** Only Integer Values 0 or greater is provided by the user ***\")\n",
    "    print(\"\\n*******************************************************************************************\")\n"
   ]
  },
  {
   "cell_type": "code",
   "execution_count": 3,
   "id": "74d373a1",
   "metadata": {},
   "outputs": [],
   "source": [
    "def getInput():\n",
    "    \"\"\" \n",
    "    Function to get the Input from the user\n",
    "    returns the position of the person by row, column as received from the user\n",
    "    \"\"\"\n",
    "    \n",
    "    # Get the row position of the person\n",
    "    row = int(input(\"\\nEnter the row position of the person :: \"))\n",
    "    # Get the row position of the person\n",
    "    col = int(input(\"\\nEnter the column position of the person :: \"))\n",
    "    \n",
    "    # Return the row and column value back\n",
    "    return row,col\n",
    "    "
   ]
  },
  {
   "cell_type": "code",
   "execution_count": 4,
   "id": "e13cae8f",
   "metadata": {},
   "outputs": [],
   "source": [
    "def humanPyramid(row, col):\n",
    "    \"\"\" \n",
    "    Function to get the total weight on the person with recursive call\n",
    "    row: Row position of the person\n",
    "    column: Column Position of the person\n",
    "\n",
    "    Conditions handled :\n",
    "\n",
    "    case1: Out of bound case Condition / illegal row-column combination\n",
    "           Ex: row or column is negative.\n",
    "           Ex: the columns is greater than row which will be outside of pyramid structure\n",
    "           returns -1 for illegal condition\n",
    "\n",
    "    case2: When the position of the person is at the top most level i.e row is 0\n",
    "           Ex : row = 0 and column = 0\n",
    "           return 0 since he has no weight on him\n",
    "  \n",
    "    case3: When the position of the person is on the left side of the pyramid i.e column is 0\n",
    "           we call recursively to get half of the weight received by the person above him and his weight\n",
    "           Ex : row = 1 and column = 0\n",
    "           returns weight passed on from top level\n",
    "\n",
    "    case4: When the position is the right most of the pyramid i.e row and column are equal\n",
    "           we call recursively to get half of the weight received by the person above him and his weight\n",
    "           EX : row = 1 and column = 1\n",
    "           returns weight passed on from top level\n",
    "  \n",
    "    case5: When the position is in center except the left most and right most\n",
    "           we call recursively to get half of weight received by the person and his weight from the positions \n",
    "           left and right.\n",
    "           returns weight passed on from top level from left and right\n",
    "    \"\"\"\n",
    "    \n",
    "    if(col<0 or row<0 or col>row): # case1 explained in docstring is handled here for illegal combinations\n",
    "        return -1\n",
    "    \n",
    "    if(row ==0):                   # case2 explained in docstring is handled here for person at the top\n",
    "        return 0 \n",
    "    elif(col == 0):                # case3 explained in docstring is handled here for left most person   \n",
    "        return (humanPyramid(row - 1, col) + 128) // 2\n",
    "    \n",
    "    if(row == col):                # case4 explained in docstring is handled here for right most person\n",
    "        return (humanPyramid(row - 1, col - 1) + 128) // 2\n",
    "    else:                          # rest is the case5 for person expcept the left and right most\n",
    "        return 128 + (humanPyramid(row-1, col-1)+humanPyramid(row-1,col)) // 2    \n",
    " "
   ]
  },
  {
   "cell_type": "code",
   "execution_count": 5,
   "id": "7980d824",
   "metadata": {},
   "outputs": [],
   "source": [
    "def printOutput(row,col,weight):\n",
    "    \"\"\"\n",
    "    Function to print the output as result\n",
    "    if the weight is received as -1 its an illegal combination and fall out of human pyramid structure\n",
    "    else it prints the weight on the person \n",
    "    \"\"\"\n",
    "    \n",
    "    if(weight == -1):\n",
    "        print(\"\\nIllegal row-columns combination ::: Position falls out ouf Human Pyramid Structure\")\n",
    "    else:\n",
    "        print(\"\\nThe weight put on to the person at position {},{} is:::{}\".format(row,col,weight))\n"
   ]
  },
  {
   "cell_type": "code",
   "execution_count": 6,
   "id": "fade603b",
   "metadata": {},
   "outputs": [
    {
     "name": "stdout",
     "output_type": "stream",
     "text": [
      "                     ******** WELCOME TO THE HUMAR PYRAMID CALCULATION  ********\n",
      "\n",
      "-> This program takes as input the row and column number of a person in a human pyramid.\n",
      "\n",
      "-> Then returns the total weight on that person's back.\n",
      "\n",
      "-> The weight of each person is 128 pounds.\n",
      "\n",
      "-> And the weight of each person is equally passed on to the person below and so on.\n",
      "\n",
      "-> The row and column are each zero-indexed, the person at row 0, column 0 is on top of the pyramid.\n",
      "\n",
      "\n",
      " ASSUMPTION : *** Only Integer Values 0 or greater is provided by the user ***\n",
      "\n",
      "*******************************************************************************************\n",
      "\n",
      "Enter the row position of the person :: 0\n",
      "\n",
      "Enter the column position of the person :: 0\n",
      "\n",
      "The weight put on to the person at position 0,0 is:::0\n"
     ]
    }
   ],
   "source": [
    "main()"
   ]
  },
  {
   "cell_type": "code",
   "execution_count": 7,
   "id": "22fe045d",
   "metadata": {},
   "outputs": [
    {
     "name": "stdout",
     "output_type": "stream",
     "text": [
      "                     ******** WELCOME TO THE HUMAR PYRAMID CALCULATION  ********\n",
      "\n",
      "-> This program takes as input the row and column number of a person in a human pyramid.\n",
      "\n",
      "-> Then returns the total weight on that person's back.\n",
      "\n",
      "-> The weight of each person is 128 pounds.\n",
      "\n",
      "-> And the weight of each person is equally passed on to the person below and so on.\n",
      "\n",
      "-> The row and column are each zero-indexed, the person at row 0, column 0 is on top of the pyramid.\n",
      "\n",
      "\n",
      " ASSUMPTION : *** Only Integer Values 0 or greater is provided by the user ***\n",
      "\n",
      "*******************************************************************************************\n",
      "\n",
      "Enter the row position of the person :: -1\n",
      "\n",
      "Enter the column position of the person :: -1\n",
      "\n",
      "Illegal row-columns combination ::: Position falls out ouf Human Pyramid Structure\n"
     ]
    }
   ],
   "source": [
    "main()"
   ]
  },
  {
   "cell_type": "code",
   "execution_count": 8,
   "id": "0d934022",
   "metadata": {},
   "outputs": [
    {
     "name": "stdout",
     "output_type": "stream",
     "text": [
      "                     ******** WELCOME TO THE HUMAR PYRAMID CALCULATION  ********\n",
      "\n",
      "-> This program takes as input the row and column number of a person in a human pyramid.\n",
      "\n",
      "-> Then returns the total weight on that person's back.\n",
      "\n",
      "-> The weight of each person is 128 pounds.\n",
      "\n",
      "-> And the weight of each person is equally passed on to the person below and so on.\n",
      "\n",
      "-> The row and column are each zero-indexed, the person at row 0, column 0 is on top of the pyramid.\n",
      "\n",
      "\n",
      " ASSUMPTION : *** Only Integer Values 0 or greater is provided by the user ***\n",
      "\n",
      "*******************************************************************************************\n",
      "\n",
      "Enter the row position of the person :: 0\n",
      "\n",
      "Enter the column position of the person :: 1\n",
      "\n",
      "Illegal row-columns combination ::: Position falls out ouf Human Pyramid Structure\n"
     ]
    }
   ],
   "source": [
    "main()"
   ]
  },
  {
   "cell_type": "code",
   "execution_count": 10,
   "id": "1984ab25",
   "metadata": {},
   "outputs": [
    {
     "name": "stdout",
     "output_type": "stream",
     "text": [
      "                     ******** WELCOME TO THE HUMAR PYRAMID CALCULATION  ********\n",
      "\n",
      "-> This program takes as input the row and column number of a person in a human pyramid.\n",
      "\n",
      "-> Then returns the total weight on that person's back.\n",
      "\n",
      "-> The weight of each person is 128 pounds.\n",
      "\n",
      "-> And the weight of each person is equally passed on to the person below and so on.\n",
      "\n",
      "-> The row and column are each zero-indexed, the person at row 0, column 0 is on top of the pyramid.\n",
      "\n",
      "\n",
      " ASSUMPTION : *** Only Integer Values 0 or greater is provided by the user ***\n",
      "\n",
      "*******************************************************************************************\n",
      "\n",
      "Enter the row position of the person :: 1\n",
      "\n",
      "Enter the column position of the person :: 0\n",
      "\n",
      "The weight put on to the person at position 1,0 is:::64\n"
     ]
    }
   ],
   "source": [
    "main()"
   ]
  },
  {
   "cell_type": "code",
   "execution_count": 11,
   "id": "82f0c18d",
   "metadata": {},
   "outputs": [
    {
     "name": "stdout",
     "output_type": "stream",
     "text": [
      "                     ******** WELCOME TO THE HUMAR PYRAMID CALCULATION  ********\n",
      "\n",
      "-> This program takes as input the row and column number of a person in a human pyramid.\n",
      "\n",
      "-> Then returns the total weight on that person's back.\n",
      "\n",
      "-> The weight of each person is 128 pounds.\n",
      "\n",
      "-> And the weight of each person is equally passed on to the person below and so on.\n",
      "\n",
      "-> The row and column are each zero-indexed, the person at row 0, column 0 is on top of the pyramid.\n",
      "\n",
      "\n",
      " ASSUMPTION : *** Only Integer Values 0 or greater is provided by the user ***\n",
      "\n",
      "*******************************************************************************************\n",
      "\n",
      "Enter the row position of the person :: 1\n",
      "\n",
      "Enter the column position of the person :: 1\n",
      "\n",
      "The weight put on to the person at position 1,1 is:::64\n"
     ]
    }
   ],
   "source": [
    "main()"
   ]
  },
  {
   "cell_type": "code",
   "execution_count": 12,
   "id": "2e44f4bc",
   "metadata": {},
   "outputs": [
    {
     "name": "stdout",
     "output_type": "stream",
     "text": [
      "                     ******** WELCOME TO THE HUMAR PYRAMID CALCULATION  ********\n",
      "\n",
      "-> This program takes as input the row and column number of a person in a human pyramid.\n",
      "\n",
      "-> Then returns the total weight on that person's back.\n",
      "\n",
      "-> The weight of each person is 128 pounds.\n",
      "\n",
      "-> And the weight of each person is equally passed on to the person below and so on.\n",
      "\n",
      "-> The row and column are each zero-indexed, the person at row 0, column 0 is on top of the pyramid.\n",
      "\n",
      "\n",
      " ASSUMPTION : *** Only Integer Values 0 or greater is provided by the user ***\n",
      "\n",
      "*******************************************************************************************\n",
      "\n",
      "Enter the row position of the person :: 2\n",
      "\n",
      "Enter the column position of the person :: 0\n",
      "\n",
      "The weight put on to the person at position 2,0 is:::96\n"
     ]
    }
   ],
   "source": [
    "main()"
   ]
  },
  {
   "cell_type": "code",
   "execution_count": 13,
   "id": "d7d7b556",
   "metadata": {},
   "outputs": [
    {
     "name": "stdout",
     "output_type": "stream",
     "text": [
      "                     ******** WELCOME TO THE HUMAR PYRAMID CALCULATION  ********\n",
      "\n",
      "-> This program takes as input the row and column number of a person in a human pyramid.\n",
      "\n",
      "-> Then returns the total weight on that person's back.\n",
      "\n",
      "-> The weight of each person is 128 pounds.\n",
      "\n",
      "-> And the weight of each person is equally passed on to the person below and so on.\n",
      "\n",
      "-> The row and column are each zero-indexed, the person at row 0, column 0 is on top of the pyramid.\n",
      "\n",
      "\n",
      " ASSUMPTION : *** Only Integer Values 0 or greater is provided by the user ***\n",
      "\n",
      "*******************************************************************************************\n",
      "\n",
      "Enter the row position of the person :: 2\n",
      "\n",
      "Enter the column position of the person :: 1\n",
      "\n",
      "The weight put on to the person at position 2,1 is:::192\n"
     ]
    }
   ],
   "source": [
    "main()"
   ]
  },
  {
   "cell_type": "code",
   "execution_count": 14,
   "id": "e662a81a",
   "metadata": {},
   "outputs": [
    {
     "name": "stdout",
     "output_type": "stream",
     "text": [
      "                     ******** WELCOME TO THE HUMAR PYRAMID CALCULATION  ********\n",
      "\n",
      "-> This program takes as input the row and column number of a person in a human pyramid.\n",
      "\n",
      "-> Then returns the total weight on that person's back.\n",
      "\n",
      "-> The weight of each person is 128 pounds.\n",
      "\n",
      "-> And the weight of each person is equally passed on to the person below and so on.\n",
      "\n",
      "-> The row and column are each zero-indexed, the person at row 0, column 0 is on top of the pyramid.\n",
      "\n",
      "\n",
      " ASSUMPTION : *** Only Integer Values 0 or greater is provided by the user ***\n",
      "\n",
      "*******************************************************************************************\n",
      "\n",
      "Enter the row position of the person :: 2\n",
      "\n",
      "Enter the column position of the person :: 2\n",
      "\n",
      "The weight put on to the person at position 2,2 is:::96\n"
     ]
    }
   ],
   "source": [
    "main()"
   ]
  },
  {
   "cell_type": "code",
   "execution_count": 15,
   "id": "35146ce6",
   "metadata": {},
   "outputs": [
    {
     "name": "stdout",
     "output_type": "stream",
     "text": [
      "                     ******** WELCOME TO THE HUMAR PYRAMID CALCULATION  ********\n",
      "\n",
      "-> This program takes as input the row and column number of a person in a human pyramid.\n",
      "\n",
      "-> Then returns the total weight on that person's back.\n",
      "\n",
      "-> The weight of each person is 128 pounds.\n",
      "\n",
      "-> And the weight of each person is equally passed on to the person below and so on.\n",
      "\n",
      "-> The row and column are each zero-indexed, the person at row 0, column 0 is on top of the pyramid.\n",
      "\n",
      "\n",
      " ASSUMPTION : *** Only Integer Values 0 or greater is provided by the user ***\n",
      "\n",
      "*******************************************************************************************\n",
      "\n",
      "Enter the row position of the person :: 3\n",
      "\n",
      "Enter the column position of the person :: 0\n",
      "\n",
      "The weight put on to the person at position 3,0 is:::112\n"
     ]
    }
   ],
   "source": [
    "main()"
   ]
  },
  {
   "cell_type": "code",
   "execution_count": 16,
   "id": "02c58ccc",
   "metadata": {},
   "outputs": [
    {
     "name": "stdout",
     "output_type": "stream",
     "text": [
      "                     ******** WELCOME TO THE HUMAR PYRAMID CALCULATION  ********\n",
      "\n",
      "-> This program takes as input the row and column number of a person in a human pyramid.\n",
      "\n",
      "-> Then returns the total weight on that person's back.\n",
      "\n",
      "-> The weight of each person is 128 pounds.\n",
      "\n",
      "-> And the weight of each person is equally passed on to the person below and so on.\n",
      "\n",
      "-> The row and column are each zero-indexed, the person at row 0, column 0 is on top of the pyramid.\n",
      "\n",
      "\n",
      " ASSUMPTION : *** Only Integer Values 0 or greater is provided by the user ***\n",
      "\n",
      "*******************************************************************************************\n",
      "\n",
      "Enter the row position of the person :: 3\n",
      "\n",
      "Enter the column position of the person :: 1\n",
      "\n",
      "The weight put on to the person at position 3,1 is:::272\n"
     ]
    }
   ],
   "source": [
    "main()"
   ]
  },
  {
   "cell_type": "code",
   "execution_count": 17,
   "id": "51c1ca07",
   "metadata": {},
   "outputs": [
    {
     "name": "stdout",
     "output_type": "stream",
     "text": [
      "                     ******** WELCOME TO THE HUMAR PYRAMID CALCULATION  ********\n",
      "\n",
      "-> This program takes as input the row and column number of a person in a human pyramid.\n",
      "\n",
      "-> Then returns the total weight on that person's back.\n",
      "\n",
      "-> The weight of each person is 128 pounds.\n",
      "\n",
      "-> And the weight of each person is equally passed on to the person below and so on.\n",
      "\n",
      "-> The row and column are each zero-indexed, the person at row 0, column 0 is on top of the pyramid.\n",
      "\n",
      "\n",
      " ASSUMPTION : *** Only Integer Values 0 or greater is provided by the user ***\n",
      "\n",
      "*******************************************************************************************\n",
      "\n",
      "Enter the row position of the person :: 3\n",
      "\n",
      "Enter the column position of the person :: 2\n",
      "\n",
      "The weight put on to the person at position 3,2 is:::272\n"
     ]
    }
   ],
   "source": [
    "main()"
   ]
  },
  {
   "cell_type": "code",
   "execution_count": 18,
   "id": "7c50e86b",
   "metadata": {},
   "outputs": [
    {
     "name": "stdout",
     "output_type": "stream",
     "text": [
      "                     ******** WELCOME TO THE HUMAR PYRAMID CALCULATION  ********\n",
      "\n",
      "-> This program takes as input the row and column number of a person in a human pyramid.\n",
      "\n",
      "-> Then returns the total weight on that person's back.\n",
      "\n",
      "-> The weight of each person is 128 pounds.\n",
      "\n",
      "-> And the weight of each person is equally passed on to the person below and so on.\n",
      "\n",
      "-> The row and column are each zero-indexed, the person at row 0, column 0 is on top of the pyramid.\n",
      "\n",
      "\n",
      " ASSUMPTION : *** Only Integer Values 0 or greater is provided by the user ***\n",
      "\n",
      "*******************************************************************************************\n",
      "\n",
      "Enter the row position of the person :: 3\n",
      "\n",
      "Enter the column position of the person :: 3\n",
      "\n",
      "The weight put on to the person at position 3,3 is:::112\n"
     ]
    }
   ],
   "source": [
    "main()"
   ]
  },
  {
   "cell_type": "code",
   "execution_count": 19,
   "id": "99419db9",
   "metadata": {},
   "outputs": [
    {
     "name": "stdout",
     "output_type": "stream",
     "text": [
      "                     ******** WELCOME TO THE HUMAR PYRAMID CALCULATION  ********\n",
      "\n",
      "-> This program takes as input the row and column number of a person in a human pyramid.\n",
      "\n",
      "-> Then returns the total weight on that person's back.\n",
      "\n",
      "-> The weight of each person is 128 pounds.\n",
      "\n",
      "-> And the weight of each person is equally passed on to the person below and so on.\n",
      "\n",
      "-> The row and column are each zero-indexed, the person at row 0, column 0 is on top of the pyramid.\n",
      "\n",
      "\n",
      " ASSUMPTION : *** Only Integer Values 0 or greater is provided by the user ***\n",
      "\n",
      "*******************************************************************************************\n",
      "\n",
      "Enter the row position of the person :: 4\n",
      "\n",
      "Enter the column position of the person :: 0\n",
      "\n",
      "The weight put on to the person at position 4,0 is:::120\n"
     ]
    }
   ],
   "source": [
    "main()"
   ]
  },
  {
   "cell_type": "code",
   "execution_count": 20,
   "id": "c186984f",
   "metadata": {},
   "outputs": [
    {
     "name": "stdout",
     "output_type": "stream",
     "text": [
      "                     ******** WELCOME TO THE HUMAR PYRAMID CALCULATION  ********\n",
      "\n",
      "-> This program takes as input the row and column number of a person in a human pyramid.\n",
      "\n",
      "-> Then returns the total weight on that person's back.\n",
      "\n",
      "-> The weight of each person is 128 pounds.\n",
      "\n",
      "-> And the weight of each person is equally passed on to the person below and so on.\n",
      "\n",
      "-> The row and column are each zero-indexed, the person at row 0, column 0 is on top of the pyramid.\n",
      "\n",
      "\n",
      " ASSUMPTION : *** Only Integer Values 0 or greater is provided by the user ***\n",
      "\n",
      "*******************************************************************************************\n",
      "\n",
      "Enter the row position of the person :: 4\n",
      "\n",
      "Enter the column position of the person :: 1\n",
      "\n",
      "The weight put on to the person at position 4,1 is:::320\n"
     ]
    }
   ],
   "source": [
    "main()"
   ]
  },
  {
   "cell_type": "code",
   "execution_count": 21,
   "id": "3f66742a",
   "metadata": {},
   "outputs": [
    {
     "name": "stdout",
     "output_type": "stream",
     "text": [
      "                     ******** WELCOME TO THE HUMAR PYRAMID CALCULATION  ********\n",
      "\n",
      "-> This program takes as input the row and column number of a person in a human pyramid.\n",
      "\n",
      "-> Then returns the total weight on that person's back.\n",
      "\n",
      "-> The weight of each person is 128 pounds.\n",
      "\n",
      "-> And the weight of each person is equally passed on to the person below and so on.\n",
      "\n",
      "-> The row and column are each zero-indexed, the person at row 0, column 0 is on top of the pyramid.\n",
      "\n",
      "\n",
      " ASSUMPTION : *** Only Integer Values 0 or greater is provided by the user ***\n",
      "\n",
      "*******************************************************************************************\n",
      "\n",
      "Enter the row position of the person :: 4\n",
      "\n",
      "Enter the column position of the person :: 2\n",
      "\n",
      "The weight put on to the person at position 4,2 is:::400\n"
     ]
    }
   ],
   "source": [
    "main()"
   ]
  },
  {
   "cell_type": "code",
   "execution_count": 22,
   "id": "0d6a3330",
   "metadata": {},
   "outputs": [
    {
     "name": "stdout",
     "output_type": "stream",
     "text": [
      "                     ******** WELCOME TO THE HUMAR PYRAMID CALCULATION  ********\n",
      "\n",
      "-> This program takes as input the row and column number of a person in a human pyramid.\n",
      "\n",
      "-> Then returns the total weight on that person's back.\n",
      "\n",
      "-> The weight of each person is 128 pounds.\n",
      "\n",
      "-> And the weight of each person is equally passed on to the person below and so on.\n",
      "\n",
      "-> The row and column are each zero-indexed, the person at row 0, column 0 is on top of the pyramid.\n",
      "\n",
      "\n",
      " ASSUMPTION : *** Only Integer Values 0 or greater is provided by the user ***\n",
      "\n",
      "*******************************************************************************************\n",
      "\n",
      "Enter the row position of the person :: 4\n",
      "\n",
      "Enter the column position of the person :: 3\n",
      "\n",
      "The weight put on to the person at position 4,3 is:::320\n"
     ]
    }
   ],
   "source": [
    "main()"
   ]
  },
  {
   "cell_type": "code",
   "execution_count": 23,
   "id": "f0cc4ae8",
   "metadata": {},
   "outputs": [
    {
     "name": "stdout",
     "output_type": "stream",
     "text": [
      "                     ******** WELCOME TO THE HUMAR PYRAMID CALCULATION  ********\n",
      "\n",
      "-> This program takes as input the row and column number of a person in a human pyramid.\n",
      "\n",
      "-> Then returns the total weight on that person's back.\n",
      "\n",
      "-> The weight of each person is 128 pounds.\n",
      "\n",
      "-> And the weight of each person is equally passed on to the person below and so on.\n",
      "\n",
      "-> The row and column are each zero-indexed, the person at row 0, column 0 is on top of the pyramid.\n",
      "\n",
      "\n",
      " ASSUMPTION : *** Only Integer Values 0 or greater is provided by the user ***\n",
      "\n",
      "*******************************************************************************************\n",
      "\n",
      "Enter the row position of the person :: 4\n",
      "\n",
      "Enter the column position of the person :: 4\n",
      "\n",
      "The weight put on to the person at position 4,4 is:::120\n"
     ]
    }
   ],
   "source": [
    "main()"
   ]
  },
  {
   "cell_type": "code",
   "execution_count": 24,
   "id": "adcd0398",
   "metadata": {},
   "outputs": [
    {
     "name": "stdout",
     "output_type": "stream",
     "text": [
      "                     ******** WELCOME TO THE HUMAR PYRAMID CALCULATION  ********\n",
      "\n",
      "-> This program takes as input the row and column number of a person in a human pyramid.\n",
      "\n",
      "-> Then returns the total weight on that person's back.\n",
      "\n",
      "-> The weight of each person is 128 pounds.\n",
      "\n",
      "-> And the weight of each person is equally passed on to the person below and so on.\n",
      "\n",
      "-> The row and column are each zero-indexed, the person at row 0, column 0 is on top of the pyramid.\n",
      "\n",
      "\n",
      " ASSUMPTION : *** Only Integer Values 0 or greater is provided by the user ***\n",
      "\n",
      "*******************************************************************************************\n",
      "\n",
      "Enter the row position of the person :: 4\n",
      "\n",
      "Enter the column position of the person :: 5\n",
      "\n",
      "Illegal row-columns combination ::: Position falls out ouf Human Pyramid Structure\n"
     ]
    }
   ],
   "source": [
    "main()"
   ]
  },
  {
   "cell_type": "code",
   "execution_count": 25,
   "id": "a03e2bba",
   "metadata": {},
   "outputs": [
    {
     "name": "stdout",
     "output_type": "stream",
     "text": [
      "                     ******** WELCOME TO THE HUMAR PYRAMID CALCULATION  ********\n",
      "\n",
      "-> This program takes as input the row and column number of a person in a human pyramid.\n",
      "\n",
      "-> Then returns the total weight on that person's back.\n",
      "\n",
      "-> The weight of each person is 128 pounds.\n",
      "\n",
      "-> And the weight of each person is equally passed on to the person below and so on.\n",
      "\n",
      "-> The row and column are each zero-indexed, the person at row 0, column 0 is on top of the pyramid.\n",
      "\n",
      "\n",
      " ASSUMPTION : *** Only Integer Values 0 or greater is provided by the user ***\n",
      "\n",
      "*******************************************************************************************\n",
      "\n",
      "Enter the row position of the person :: 5\n",
      "\n",
      "Enter the column position of the person :: 0\n",
      "\n",
      "The weight put on to the person at position 5,0 is:::124\n"
     ]
    }
   ],
   "source": [
    "main()"
   ]
  },
  {
   "cell_type": "code",
   "execution_count": 26,
   "id": "1b79ef0f",
   "metadata": {},
   "outputs": [
    {
     "name": "stdout",
     "output_type": "stream",
     "text": [
      "                     ******** WELCOME TO THE HUMAR PYRAMID CALCULATION  ********\n",
      "\n",
      "-> This program takes as input the row and column number of a person in a human pyramid.\n",
      "\n",
      "-> Then returns the total weight on that person's back.\n",
      "\n",
      "-> The weight of each person is 128 pounds.\n",
      "\n",
      "-> And the weight of each person is equally passed on to the person below and so on.\n",
      "\n",
      "-> The row and column are each zero-indexed, the person at row 0, column 0 is on top of the pyramid.\n",
      "\n",
      "\n",
      " ASSUMPTION : *** Only Integer Values 0 or greater is provided by the user ***\n",
      "\n",
      "*******************************************************************************************\n",
      "\n",
      "Enter the row position of the person :: 5\n",
      "\n",
      "Enter the column position of the person :: 1\n",
      "\n",
      "The weight put on to the person at position 5,1 is:::348\n"
     ]
    }
   ],
   "source": [
    "main()"
   ]
  },
  {
   "cell_type": "code",
   "execution_count": 27,
   "id": "51eac961",
   "metadata": {},
   "outputs": [
    {
     "name": "stdout",
     "output_type": "stream",
     "text": [
      "                     ******** WELCOME TO THE HUMAR PYRAMID CALCULATION  ********\n",
      "\n",
      "-> This program takes as input the row and column number of a person in a human pyramid.\n",
      "\n",
      "-> Then returns the total weight on that person's back.\n",
      "\n",
      "-> The weight of each person is 128 pounds.\n",
      "\n",
      "-> And the weight of each person is equally passed on to the person below and so on.\n",
      "\n",
      "-> The row and column are each zero-indexed, the person at row 0, column 0 is on top of the pyramid.\n",
      "\n",
      "\n",
      " ASSUMPTION : *** Only Integer Values 0 or greater is provided by the user ***\n",
      "\n",
      "*******************************************************************************************\n",
      "\n",
      "Enter the row position of the person :: 5\n",
      "\n",
      "Enter the column position of the person :: 2\n",
      "\n",
      "The weight put on to the person at position 5,2 is:::488\n"
     ]
    }
   ],
   "source": [
    "main()"
   ]
  },
  {
   "cell_type": "code",
   "execution_count": 28,
   "id": "22cc005e",
   "metadata": {},
   "outputs": [
    {
     "name": "stdout",
     "output_type": "stream",
     "text": [
      "                     ******** WELCOME TO THE HUMAR PYRAMID CALCULATION  ********\n",
      "\n",
      "-> This program takes as input the row and column number of a person in a human pyramid.\n",
      "\n",
      "-> Then returns the total weight on that person's back.\n",
      "\n",
      "-> The weight of each person is 128 pounds.\n",
      "\n",
      "-> And the weight of each person is equally passed on to the person below and so on.\n",
      "\n",
      "-> The row and column are each zero-indexed, the person at row 0, column 0 is on top of the pyramid.\n",
      "\n",
      "\n",
      " ASSUMPTION : *** Only Integer Values 0 or greater is provided by the user ***\n",
      "\n",
      "*******************************************************************************************\n",
      "\n",
      "Enter the row position of the person :: 5\n",
      "\n",
      "Enter the column position of the person :: 3\n",
      "\n",
      "The weight put on to the person at position 5,3 is:::488\n"
     ]
    }
   ],
   "source": [
    "main()"
   ]
  },
  {
   "cell_type": "code",
   "execution_count": 29,
   "id": "3e29c450",
   "metadata": {},
   "outputs": [
    {
     "name": "stdout",
     "output_type": "stream",
     "text": [
      "                     ******** WELCOME TO THE HUMAR PYRAMID CALCULATION  ********\n",
      "\n",
      "-> This program takes as input the row and column number of a person in a human pyramid.\n",
      "\n",
      "-> Then returns the total weight on that person's back.\n",
      "\n",
      "-> The weight of each person is 128 pounds.\n",
      "\n",
      "-> And the weight of each person is equally passed on to the person below and so on.\n",
      "\n",
      "-> The row and column are each zero-indexed, the person at row 0, column 0 is on top of the pyramid.\n",
      "\n",
      "\n",
      " ASSUMPTION : *** Only Integer Values 0 or greater is provided by the user ***\n",
      "\n",
      "*******************************************************************************************\n",
      "\n",
      "Enter the row position of the person :: 5\n",
      "\n",
      "Enter the column position of the person :: 4\n",
      "\n",
      "The weight put on to the person at position 5,4 is:::348\n"
     ]
    }
   ],
   "source": [
    "main()"
   ]
  },
  {
   "cell_type": "code",
   "execution_count": 30,
   "id": "642b143c",
   "metadata": {},
   "outputs": [
    {
     "name": "stdout",
     "output_type": "stream",
     "text": [
      "                     ******** WELCOME TO THE HUMAR PYRAMID CALCULATION  ********\n",
      "\n",
      "-> This program takes as input the row and column number of a person in a human pyramid.\n",
      "\n",
      "-> Then returns the total weight on that person's back.\n",
      "\n",
      "-> The weight of each person is 128 pounds.\n",
      "\n",
      "-> And the weight of each person is equally passed on to the person below and so on.\n",
      "\n",
      "-> The row and column are each zero-indexed, the person at row 0, column 0 is on top of the pyramid.\n",
      "\n",
      "\n",
      " ASSUMPTION : *** Only Integer Values 0 or greater is provided by the user ***\n",
      "\n",
      "*******************************************************************************************\n",
      "\n",
      "Enter the row position of the person :: 5\n",
      "\n",
      "Enter the column position of the person :: 5\n",
      "\n",
      "The weight put on to the person at position 5,5 is:::124\n"
     ]
    }
   ],
   "source": [
    "main()"
   ]
  },
  {
   "cell_type": "code",
   "execution_count": 31,
   "id": "16f92ee8",
   "metadata": {},
   "outputs": [
    {
     "name": "stdout",
     "output_type": "stream",
     "text": [
      "                     ******** WELCOME TO THE HUMAR PYRAMID CALCULATION  ********\n",
      "\n",
      "-> This program takes as input the row and column number of a person in a human pyramid.\n",
      "\n",
      "-> Then returns the total weight on that person's back.\n",
      "\n",
      "-> The weight of each person is 128 pounds.\n",
      "\n",
      "-> And the weight of each person is equally passed on to the person below and so on.\n",
      "\n",
      "-> The row and column are each zero-indexed, the person at row 0, column 0 is on top of the pyramid.\n",
      "\n",
      "\n",
      " ASSUMPTION : *** Only Integer Values 0 or greater is provided by the user ***\n",
      "\n",
      "*******************************************************************************************\n",
      "\n",
      "Enter the row position of the person :: 6\n",
      "\n",
      "Enter the column position of the person :: 0\n",
      "\n",
      "The weight put on to the person at position 6,0 is:::126\n"
     ]
    }
   ],
   "source": [
    "main()"
   ]
  },
  {
   "cell_type": "code",
   "execution_count": 32,
   "id": "9d86c53a",
   "metadata": {},
   "outputs": [
    {
     "name": "stdout",
     "output_type": "stream",
     "text": [
      "                     ******** WELCOME TO THE HUMAR PYRAMID CALCULATION  ********\n",
      "\n",
      "-> This program takes as input the row and column number of a person in a human pyramid.\n",
      "\n",
      "-> Then returns the total weight on that person's back.\n",
      "\n",
      "-> The weight of each person is 128 pounds.\n",
      "\n",
      "-> And the weight of each person is equally passed on to the person below and so on.\n",
      "\n",
      "-> The row and column are each zero-indexed, the person at row 0, column 0 is on top of the pyramid.\n",
      "\n",
      "\n",
      " ASSUMPTION : *** Only Integer Values 0 or greater is provided by the user ***\n",
      "\n",
      "*******************************************************************************************\n",
      "\n",
      "Enter the row position of the person :: 6\n",
      "\n",
      "Enter the column position of the person :: 1\n",
      "\n",
      "The weight put on to the person at position 6,1 is:::364\n"
     ]
    }
   ],
   "source": [
    "main()"
   ]
  },
  {
   "cell_type": "code",
   "execution_count": 33,
   "id": "96189a54",
   "metadata": {},
   "outputs": [
    {
     "name": "stdout",
     "output_type": "stream",
     "text": [
      "                     ******** WELCOME TO THE HUMAR PYRAMID CALCULATION  ********\n",
      "\n",
      "-> This program takes as input the row and column number of a person in a human pyramid.\n",
      "\n",
      "-> Then returns the total weight on that person's back.\n",
      "\n",
      "-> The weight of each person is 128 pounds.\n",
      "\n",
      "-> And the weight of each person is equally passed on to the person below and so on.\n",
      "\n",
      "-> The row and column are each zero-indexed, the person at row 0, column 0 is on top of the pyramid.\n",
      "\n",
      "\n",
      " ASSUMPTION : *** Only Integer Values 0 or greater is provided by the user ***\n",
      "\n",
      "*******************************************************************************************\n",
      "\n",
      "Enter the row position of the person :: 6\n",
      "\n",
      "Enter the column position of the person :: 2\n",
      "\n",
      "The weight put on to the person at position 6,2 is:::546\n"
     ]
    }
   ],
   "source": [
    "main()"
   ]
  },
  {
   "cell_type": "code",
   "execution_count": 34,
   "id": "4ecc8f32",
   "metadata": {},
   "outputs": [
    {
     "name": "stdout",
     "output_type": "stream",
     "text": [
      "                     ******** WELCOME TO THE HUMAR PYRAMID CALCULATION  ********\n",
      "\n",
      "-> This program takes as input the row and column number of a person in a human pyramid.\n",
      "\n",
      "-> Then returns the total weight on that person's back.\n",
      "\n",
      "-> The weight of each person is 128 pounds.\n",
      "\n",
      "-> And the weight of each person is equally passed on to the person below and so on.\n",
      "\n",
      "-> The row and column are each zero-indexed, the person at row 0, column 0 is on top of the pyramid.\n",
      "\n",
      "\n",
      " ASSUMPTION : *** Only Integer Values 0 or greater is provided by the user ***\n",
      "\n",
      "*******************************************************************************************\n",
      "\n",
      "Enter the row position of the person :: 6\n",
      "\n",
      "Enter the column position of the person :: 3\n",
      "\n",
      "The weight put on to the person at position 6,3 is:::616\n"
     ]
    }
   ],
   "source": [
    "main()"
   ]
  },
  {
   "cell_type": "code",
   "execution_count": 35,
   "id": "da4ec444",
   "metadata": {},
   "outputs": [
    {
     "name": "stdout",
     "output_type": "stream",
     "text": [
      "                     ******** WELCOME TO THE HUMAR PYRAMID CALCULATION  ********\n",
      "\n",
      "-> This program takes as input the row and column number of a person in a human pyramid.\n",
      "\n",
      "-> Then returns the total weight on that person's back.\n",
      "\n",
      "-> The weight of each person is 128 pounds.\n",
      "\n",
      "-> And the weight of each person is equally passed on to the person below and so on.\n",
      "\n",
      "-> The row and column are each zero-indexed, the person at row 0, column 0 is on top of the pyramid.\n",
      "\n",
      "\n",
      " ASSUMPTION : *** Only Integer Values 0 or greater is provided by the user ***\n",
      "\n",
      "*******************************************************************************************\n",
      "\n",
      "Enter the row position of the person :: 6\n",
      "\n",
      "Enter the column position of the person :: 4\n",
      "\n",
      "The weight put on to the person at position 6,4 is:::546\n"
     ]
    }
   ],
   "source": [
    "main()"
   ]
  },
  {
   "cell_type": "code",
   "execution_count": 36,
   "id": "7334c49e",
   "metadata": {},
   "outputs": [
    {
     "name": "stdout",
     "output_type": "stream",
     "text": [
      "                     ******** WELCOME TO THE HUMAR PYRAMID CALCULATION  ********\n",
      "\n",
      "-> This program takes as input the row and column number of a person in a human pyramid.\n",
      "\n",
      "-> Then returns the total weight on that person's back.\n",
      "\n",
      "-> The weight of each person is 128 pounds.\n",
      "\n",
      "-> And the weight of each person is equally passed on to the person below and so on.\n",
      "\n",
      "-> The row and column are each zero-indexed, the person at row 0, column 0 is on top of the pyramid.\n",
      "\n",
      "\n",
      " ASSUMPTION : *** Only Integer Values 0 or greater is provided by the user ***\n",
      "\n",
      "*******************************************************************************************\n",
      "\n",
      "Enter the row position of the person :: 6\n",
      "\n",
      "Enter the column position of the person :: 5\n",
      "\n",
      "The weight put on to the person at position 6,5 is:::364\n"
     ]
    }
   ],
   "source": [
    "main()"
   ]
  },
  {
   "cell_type": "code",
   "execution_count": 37,
   "id": "0612d11b",
   "metadata": {},
   "outputs": [
    {
     "name": "stdout",
     "output_type": "stream",
     "text": [
      "                     ******** WELCOME TO THE HUMAR PYRAMID CALCULATION  ********\n",
      "\n",
      "-> This program takes as input the row and column number of a person in a human pyramid.\n",
      "\n",
      "-> Then returns the total weight on that person's back.\n",
      "\n",
      "-> The weight of each person is 128 pounds.\n",
      "\n",
      "-> And the weight of each person is equally passed on to the person below and so on.\n",
      "\n",
      "-> The row and column are each zero-indexed, the person at row 0, column 0 is on top of the pyramid.\n",
      "\n",
      "\n",
      " ASSUMPTION : *** Only Integer Values 0 or greater is provided by the user ***\n",
      "\n",
      "*******************************************************************************************\n",
      "\n",
      "Enter the row position of the person :: 6\n",
      "\n",
      "Enter the column position of the person :: 6\n",
      "\n",
      "The weight put on to the person at position 6,6 is:::126\n"
     ]
    }
   ],
   "source": [
    "main()"
   ]
  },
  {
   "cell_type": "code",
   "execution_count": 38,
   "id": "b013a159",
   "metadata": {},
   "outputs": [
    {
     "name": "stdout",
     "output_type": "stream",
     "text": [
      "                     ******** WELCOME TO THE HUMAR PYRAMID CALCULATION  ********\n",
      "\n",
      "-> This program takes as input the row and column number of a person in a human pyramid.\n",
      "\n",
      "-> Then returns the total weight on that person's back.\n",
      "\n",
      "-> The weight of each person is 128 pounds.\n",
      "\n",
      "-> And the weight of each person is equally passed on to the person below and so on.\n",
      "\n",
      "-> The row and column are each zero-indexed, the person at row 0, column 0 is on top of the pyramid.\n",
      "\n",
      "\n",
      " ASSUMPTION : *** Only Integer Values 0 or greater is provided by the user ***\n",
      "\n",
      "*******************************************************************************************\n",
      "\n",
      "Enter the row position of the person :: 10\n",
      "\n",
      "Enter the column position of the person :: 8\n",
      "\n",
      "The weight put on to the person at position 10,8 is:::628\n"
     ]
    }
   ],
   "source": [
    "main()"
   ]
  },
  {
   "cell_type": "code",
   "execution_count": 39,
   "id": "d1ce6e0c",
   "metadata": {},
   "outputs": [
    {
     "name": "stdout",
     "output_type": "stream",
     "text": [
      "                     ******** WELCOME TO THE HUMAR PYRAMID CALCULATION  ********\n",
      "\n",
      "-> This program takes as input the row and column number of a person in a human pyramid.\n",
      "\n",
      "-> Then returns the total weight on that person's back.\n",
      "\n",
      "-> The weight of each person is 128 pounds.\n",
      "\n",
      "-> And the weight of each person is equally passed on to the person below and so on.\n",
      "\n",
      "-> The row and column are each zero-indexed, the person at row 0, column 0 is on top of the pyramid.\n",
      "\n",
      "\n",
      " ASSUMPTION : *** Only Integer Values 0 or greater is provided by the user ***\n",
      "\n",
      "*******************************************************************************************\n",
      "\n",
      "Enter the row position of the person :: 21\n",
      "\n",
      "Enter the column position of the person :: 0\n",
      "\n",
      "The weight put on to the person at position 21,0 is:::127\n"
     ]
    }
   ],
   "source": [
    "main()"
   ]
  },
  {
   "cell_type": "code",
   "execution_count": 40,
   "id": "f7621f95",
   "metadata": {},
   "outputs": [
    {
     "name": "stdout",
     "output_type": "stream",
     "text": [
      "                     ******** WELCOME TO THE HUMAR PYRAMID CALCULATION  ********\n",
      "\n",
      "-> This program takes as input the row and column number of a person in a human pyramid.\n",
      "\n",
      "-> Then returns the total weight on that person's back.\n",
      "\n",
      "-> The weight of each person is 128 pounds.\n",
      "\n",
      "-> And the weight of each person is equally passed on to the person below and so on.\n",
      "\n",
      "-> The row and column are each zero-indexed, the person at row 0, column 0 is on top of the pyramid.\n",
      "\n",
      "\n",
      " ASSUMPTION : *** Only Integer Values 0 or greater is provided by the user ***\n",
      "\n",
      "*******************************************************************************************\n",
      "\n",
      "Enter the row position of the person :: 51\n",
      "\n",
      "Enter the column position of the person :: 2\n",
      "\n",
      "The weight put on to the person at position 51,2 is:::637\n"
     ]
    }
   ],
   "source": [
    "main()"
   ]
  }
 ],
 "metadata": {
  "kernelspec": {
   "display_name": "Python 3 (ipykernel)",
   "language": "python",
   "name": "python3"
  },
  "language_info": {
   "codemirror_mode": {
    "name": "ipython",
    "version": 3
   },
   "file_extension": ".py",
   "mimetype": "text/x-python",
   "name": "python",
   "nbconvert_exporter": "python",
   "pygments_lexer": "ipython3",
   "version": "3.9.13"
  }
 },
 "nbformat": 4,
 "nbformat_minor": 5
}
