{
 "cells": [
  {
   "cell_type": "markdown",
   "id": "074d5ab0",
   "metadata": {},
   "source": [
    "# JITEN MISHRA DSC430_Assignment0302_HappyPrime\n",
    "## I have not given or received any unauthorized assistance on this assignment.\n",
    "\n",
    "## Execution Flow :: (Top - Down flow for clean readable code)\n",
    " * The main function is called. \n",
    " * The main function then calls the displayGreetings to display information and instructions.\n",
    " * It then call the getInput to receive a user input.\n",
    " * It then performs the validation on the value then calls the happyOrSad function to check if the number is a happy number or a sad number - Result is captured in a flag.\n",
    " * The happyOrSad function calls the getSumSquared to get sum of squared number in a loop until the check conditions are true.\n",
    " * The main then calls the isPrimeNum to checks if the number is a prime or not after elliminating unwanted executions - Result is captured in a flag.\n",
    " * Finally the printOutput is called by passing the boolean values and the integer number to print the desired output.\n",
    " \n",
    "***Detailed explanation of each execution flow is present inline to the the code at each step** \n",
    "\n",
    "## Q: How does your code know when to stop when operating on a sad number?\n",
    " * In the happyOrSad function a set is created to hold all the numbers that are formed as sum of square\n",
    " * While the algorithm runs in a infinite loop\n",
    " * It computes the sum of squared number of the integer then checks if the number is present in the set, it exits from the loop when it finds a number in the set which means the algorith has entered into a cycle which prooves the number is a sad number.\n",
    " * It also exists the loop when the number has reached to 1 which prooves its a happy number."
   ]
  },
  {
   "cell_type": "code",
   "execution_count": 42,
   "id": "0a54e667",
   "metadata": {},
   "outputs": [],
   "source": [
    "# Function main to be called to display a greeting message and proceed \n",
    "def main():\n",
    "    flag = True                              # Flag to run in the loop till the user chose to exit\n",
    "    isPrime = False                          # Set a boolean flag for a number as to be prime or not\n",
    "    isHappy = False                          # Set a flag for is happy or not\n",
    "    \n",
    "     # Print A Greeting Message and instructions\n",
    "    displayGreetings()\n",
    "    \n",
    "    while(flag):\n",
    "        # Call the function to get the input and proceed\n",
    "        intSel = getInput()\n",
    "            \n",
    "        if(intSel < 0):                  # if the entered value is less then 0 print the message and continue\n",
    "            print(\"\\n!!! Invalid input !!! Enter a positive Interger ::\")\n",
    "            continue\n",
    "        elif(intSel == 0):\n",
    "            flag = False                 # Set the flag as flase to exit the loop if value is 0\n",
    "        else:\n",
    "            isHappy = happyOrSad(intSel) # Call the function to check if it is happy or sad\n",
    "            isPrime = isPrimeNum(intSel) # Call the functino to check if the number is prime or not\n",
    "        if(flag):                        # Check the flag again for corner case if the number is 0 \n",
    "            # Call the print function by passing isPrime and isHappy flag and the number\n",
    "            printOutput(isHappy,isPrime,intSel)"
   ]
  },
  {
   "cell_type": "code",
   "execution_count": 43,
   "id": "dbc90164",
   "metadata": {},
   "outputs": [],
   "source": [
    "# Function to display a greeting message with information and instructions\n",
    "def displayGreetings():\n",
    "    \n",
    "    print('%80s' % \"******** WELCOME TO THE HAPPY PRIME TEST  ********\")\n",
    "    print(\"\\n-> This program will receive input from user to test the happy prime\")\n",
    "    print(\"\\n Based on the result of the test it will print where a number is a\")\n",
    "    print(\"\\t- Happy Prime - (Ex: 19 - > 1^2 + 9^2 = 82, 8^2 + 2^2 = 68 , 6^2 + 8^2 = 100,1^2 + 0^2 + 0^2 = 1)\")      \n",
    "    print(\"\\t- Sad Prime if the final output is not 1 or it goes into a endless loop\")      \n",
    "    print(\"\\t- Happy Non Prime\")      \n",
    "    print(\"\\t- Sad Non Prime\")       \n",
    "    print(\"-> This process continues till the user enters 0 to exit the program\")\n",
    "    print(\" !!!!!! Disclaimer !!!!!! We Assume that the user enters only Integers\")\n",
    "    print(\"\\n******************************************************************************************\")"
   ]
  },
  {
   "cell_type": "markdown",
   "id": "b77b838f",
   "metadata": {},
   "source": [
    "#### Function getInput receives input from user \n",
    "* Gets the user Input and returns the integer value\n"
   ]
  },
  {
   "cell_type": "code",
   "execution_count": 44,
   "id": "fc85a220",
   "metadata": {},
   "outputs": [],
   "source": [
    "# Function to get the input from the user and proceeds with the algorith\n",
    "\n",
    "def getInput():\n",
    "    # Ask the user to input the number to test\n",
    "    intSel = int(input(\"\\nEnter a +ve Integer number to test, Enter 0 to Exit :: \"))\n",
    "    return intSel\n"
   ]
  },
  {
   "cell_type": "markdown",
   "id": "e6768524",
   "metadata": {},
   "source": [
    "#### Function happyOrSad checks if a number is a happy number or a sad number\n",
    " *  Ex : 19 = \n",
    " *  1^2 + 9^2 = 82 , \n",
    " *  8^2 + 2^2 = 68 ,\n",
    " *  6^2 + 8^2 = 100 ,\n",
    " *  1^2 + 0^2 + 0^2 = 1\n",
    " * Since it has reached 1 its a happy number and we break the infinite loop in our algorith\n",
    " *  Ex : 4 = \n",
    " *  4^2 = 16,\n",
    " *  1^2 + 6^2 = 37,\n",
    " *  3^2 + 7^2 = 58,\n",
    " *  5^2 + 8^2 = 89,\n",
    " *  8^2 + 9^2 = 145,\n",
    " *  1^2 + 4^2 + 5^2 = 42,\n",
    " *  4^2 + 2^2 = 20,\n",
    " *  2^2 + 0^2 = 4\n",
    " * Since this has reached the number itself, it has entered into a cycle hence its a sad number\n",
    " * and we break the algorith in our algorith with the help of set"
   ]
  },
  {
   "cell_type": "code",
   "execution_count": 45,
   "id": "100aab43",
   "metadata": {},
   "outputs": [],
   "source": [
    "# Function to check if a number is a happy or a sad number \n",
    "def happyOrSad(n):\n",
    "    \n",
    "    flagH = False                   # Boolean Flag to capture if number is happy or sad\n",
    "    cycleSet = set()                # Create a set to check if the test algorithm has entered a cycle or not\n",
    "    cycleSet.add(n)                 # Add the initial number to the set\n",
    "    \n",
    "    while(True):                    # Continue the loop till the conditions are satisfied and a return is made\n",
    "        if(n == 1):\n",
    "            flagH = True            # set the flag to True since the number has reached 1 and break the loop\n",
    "            break\n",
    "        n = getSumSquared(n)        # get the sum of squared digits of n and replace the number n with the value\n",
    "        \n",
    "        if(n in cycleSet):          # Check if the number is present in the list\n",
    "            # since the squared number is already in the list then it has entered into a cycle\n",
    "            # and its a sad number hence break the loop\n",
    "            break\n",
    "        cycleSet.add(n)             # Add the number again to the set since its a new number\n",
    "    return flagH                    # Return the boolean value\n",
    "        \n",
    "#print(happyOrSad(7))    "
   ]
  },
  {
   "cell_type": "markdown",
   "id": "befe65dc",
   "metadata": {},
   "source": [
    "#### Function: getSumSquared get the sum of squared number of a given interger\n",
    " * Ex : if a given number is 16\n",
    " *      output = 1^2 + 6^2 = 1 + 36 = 37\n",
    " * Step wise explanation present inline to the code"
   ]
  },
  {
   "cell_type": "code",
   "execution_count": 46,
   "id": "0d901991",
   "metadata": {},
   "outputs": [],
   "source": [
    "# Function to get the sum of squared number of a given interger\n",
    "def getSumSquared(n):\n",
    "    \n",
    "    sum = 0                  # initialise the sum to 0\n",
    "    \n",
    "    while(n!=0):             # Loop until n is not equals to 0\n",
    "        dg = n % 10          # Get the digits from the end by getting the modulus of 10\n",
    "        sum += dg * dg       # Add the square value of the digit to the sum\n",
    "        n = n // 10          # Reduce the number by one digit from end\n",
    "    return sum               # Return the final sum calulated\n",
    "\n",
    "#print(getSumSquared(15))"
   ]
  },
  {
   "cell_type": "markdown",
   "id": "a7531bbb",
   "metadata": {},
   "source": [
    "#### Function: isPrimeNum checks if a number is prime or not\n",
    " * The code is made effiecient by looping from 2 to square root of the number to elliminate unwanted no. of iterations\n",
    " * Some corner cases are also checked to avoid unnecessary iterations "
   ]
  },
  {
   "cell_type": "code",
   "execution_count": 47,
   "id": "10749720",
   "metadata": {},
   "outputs": [],
   "source": [
    "import math\n",
    "\n",
    "#Function the check if the number is prime or not\n",
    "def isPrimeNum(n):\n",
    "    \n",
    "    flg = True \n",
    "    \n",
    "    #Corner Case to handle if n less ,equal to 1\n",
    "    if n<=1:\n",
    "        flg = False\n",
    "    elif(n == 2 or n == 3):            # set the flag to true if the number is 2 or 3\n",
    "        flg = True\n",
    "    else:\n",
    "        sqt = math.floor(math.sqrt(n)) # find the integer value of square root on the the given number\n",
    "    \n",
    "        # Here we are iterating till square root of the number to reduce the no.of iteration\n",
    "        # and make the code more efficient without iterating through 2...n\n",
    "        for i in range(2,sqt+1):   # Iterate form 2 to sqrt(n)+1 and if n mod i is 0 then return false \n",
    "            if(n % i == 0):\n",
    "                flg = False   \n",
    "        \n",
    "    return flg          # Return the flag\n",
    "\n",
    "#isPrimeNum(4)"
   ]
  },
  {
   "cell_type": "markdown",
   "id": "7564b32f",
   "metadata": {},
   "source": [
    "#### Function: printOutput prints the desired output for the number\n",
    "#### Logic of the if conditions used in the method to derive the result is as below\n",
    " * check if Not (Prime or Happy) then  print its a sad Non Prime\n",
    "     * else if not happy  then its a Sad Prime\n",
    "     * else if its not a prime then its a Happy Non Prime\n",
    "     * else its a happy Prime"
   ]
  },
  {
   "cell_type": "code",
   "execution_count": 48,
   "id": "dcbe14e8",
   "metadata": {},
   "outputs": [],
   "source": [
    "# Function to print the output with input as boolean isHappy,isPrime and the integer number\n",
    "def printOutput(isHappy,isPrime,intSel):\n",
    "    \n",
    "    # If logic to check if the number is a happy Prime/NonPrime or its a Sad Prime/NonPrime\n",
    "    if(not(isPrime or isHappy)):                                       \n",
    "        print(\"The Number {} is a Sad Non-Prime\".format(intSel))\n",
    "    elif(not isHappy):\n",
    "        print(\"The Number {} is a Sad Prime\".format(intSel))\n",
    "    elif(not isPrime):\n",
    "        print(\"The Number {} is a Happy Non-Prime\".format(intSel))\n",
    "    else:\n",
    "        print(\"The Number {} is a Happy Prime\".format(intSel))\n",
    "        \n",
    "#printOutput(True,True,3)\n",
    "#printOutput(True,False,3)\n",
    "#printOutput(False,True,3)\n",
    "#printOutput(False,False,3)"
   ]
  },
  {
   "cell_type": "code",
   "execution_count": 49,
   "id": "cd61365f",
   "metadata": {},
   "outputs": [
    {
     "name": "stdout",
     "output_type": "stream",
     "text": [
      "                              ******** WELCOME TO THE HAPPY PRIME TEST  ********\n",
      "\n",
      "-> This program will receive input from user to test the happy prime\n",
      "\n",
      " Based on the result of the test it will print where a number is a\n",
      "\t- Happy Prime - (Ex: 19 - > 1^2 + 9^2 = 82, 8^2 + 2^2 = 68 , 6^2 + 8^2 = 100,1^2 + 0^2 + 0^2 = 1)\n",
      "\t- Sad Prime if the final output is not 1 or it goes into a endless loop\n",
      "\t- Happy Non Prime\n",
      "\t- Sad Non Prime\n",
      "-> This process continues till the user enters 0 to exit the program\n",
      " !!!!!! Disclaimer !!!!!! We Assume that the user enters only Integers\n",
      "\n",
      "******************************************************************************************\n",
      "\n",
      "Enter a +ve Integer number to test, Enter 0 to Exit :: -1\n",
      "\n",
      "!!! Invalid input !!! Enter a positive Interger ::\n",
      "\n",
      "Enter a +ve Integer number to test, Enter 0 to Exit :: 1\n",
      "The Number 1 is a Happy Non-Prime\n",
      "\n",
      "Enter a +ve Integer number to test, Enter 0 to Exit :: 2\n",
      "The Number 2 is a Sad Prime\n",
      "\n",
      "Enter a +ve Integer number to test, Enter 0 to Exit :: 3\n",
      "The Number 3 is a Sad Prime\n",
      "\n",
      "Enter a +ve Integer number to test, Enter 0 to Exit :: 4\n",
      "The Number 4 is a Sad Non-Prime\n",
      "\n",
      "Enter a +ve Integer number to test, Enter 0 to Exit :: 5\n",
      "The Number 5 is a Sad Prime\n",
      "\n",
      "Enter a +ve Integer number to test, Enter 0 to Exit :: 6\n",
      "The Number 6 is a Sad Non-Prime\n",
      "\n",
      "Enter a +ve Integer number to test, Enter 0 to Exit :: 7\n",
      "The Number 7 is a Happy Prime\n",
      "\n",
      "Enter a +ve Integer number to test, Enter 0 to Exit :: 8\n",
      "The Number 8 is a Sad Non-Prime\n",
      "\n",
      "Enter a +ve Integer number to test, Enter 0 to Exit :: 9\n",
      "The Number 9 is a Sad Non-Prime\n",
      "\n",
      "Enter a +ve Integer number to test, Enter 0 to Exit :: 17\n",
      "The Number 17 is a Sad Prime\n",
      "\n",
      "Enter a +ve Integer number to test, Enter 0 to Exit :: 19\n",
      "The Number 19 is a Happy Prime\n",
      "\n",
      "Enter a +ve Integer number to test, Enter 0 to Exit :: 87\n",
      "The Number 87 is a Sad Non-Prime\n",
      "\n",
      "Enter a +ve Integer number to test, Enter 0 to Exit :: 89\n",
      "The Number 89 is a Sad Prime\n",
      "\n",
      "Enter a +ve Integer number to test, Enter 0 to Exit :: 0\n"
     ]
    }
   ],
   "source": [
    "main()"
   ]
  },
  {
   "cell_type": "code",
   "execution_count": null,
   "id": "8e3186af",
   "metadata": {},
   "outputs": [],
   "source": []
  }
 ],
 "metadata": {
  "kernelspec": {
   "display_name": "Python 3 (ipykernel)",
   "language": "python",
   "name": "python3"
  },
  "language_info": {
   "codemirror_mode": {
    "name": "ipython",
    "version": 3
   },
   "file_extension": ".py",
   "mimetype": "text/x-python",
   "name": "python",
   "nbconvert_exporter": "python",
   "pygments_lexer": "ipython3",
   "version": "3.9.13"
  }
 },
 "nbformat": 4,
 "nbformat_minor": 5
}
