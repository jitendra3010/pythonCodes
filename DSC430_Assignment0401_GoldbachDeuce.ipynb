{
 "cells": [
  {
   "cell_type": "markdown",
   "id": "768c40fe",
   "metadata": {},
   "source": [
    "# JITEN MISHRA DSC430_Assignment0401_GoldbachDeuce\n",
    "## I have not given or received any unauthorized assistance on this assignment.¶\n",
    "\n",
    "## Explanation of Approach::\n",
    "**The logic for the program is explained as below**\n",
    "\n",
    "* The main function first prints a greeting message.\n",
    "* It then gets the input from the user for the desired size of list and the sum value for which the pair is to be found.\n",
    "* Using the help of list comprehension syntax it creates a list of random numbers based on the size provided by the user.\n",
    "* It performs a sort on the random list using the merge sort technique - Calls the function mergeSort(lst)\n",
    "* This sorted list along with the sum value is sent to the findPairSum funciton to find a pair.\n",
    "* The findPairSum loops through the sorted list calculates the difference of the sum value and the indexed item.\n",
    "* And it performs a binary search to see if the difference number is present in the list or not.\n",
    "* If the binary search returns -1 as the value the findPariSum loop is continued to the next iteration.\n",
    "* If the binary search returns a number then the pair is found and the loop is exited.\n",
    "* This pair is then sent to the printOutput function along with other relevant information for the output message to be displayed.\n",
    "\n",
    "**Stepwise information is provided inline to the each function**\n",
    "\n",
    "## Explanation w.r.t Time Complexity\n",
    "\n",
    "**The complete logic works with a time complexity of O(nlog n)**\n",
    "* The functions which effect the time complexity of the logic are \n",
    "    - mergeSort\n",
    "    - findPairSum\n",
    "    - binarySearch\n",
    "    - printOutput\n",
    "* **mergeSort** - logic does not contain any nested loops, so it is executed with linear complexity.If the array size is doubled, the merge time doubles, too. The total effort is, therefore, the same at all merge levels. So we have n elements times log n division and merge stages. Therefore the time complexity of merge sort is **O(nlog n)**.\n",
    "* **findPairSum** - logic contains a loop which iterates over the list which itself is a time complexity of **O(n)** and within the loop we are calling the binarySearch function which is of time complexity of **O(log n)** (reasoining provided in below point) so the process of findPairSum has a total time complexity of **O(nlog n)** \n",
    "* **binarySearch** - logic does not contain any loop rather it executes the algorith in a recursive manner each time dividing the list of data to half thus exucuting with a time complexity of **O(log n)**\n",
    "* **printOutut** - logic does not contain any loop but it prints the list in the output which itself has a time complexity of **O(n)**\n",
    "\n",
    "**So accumulating the time complexities of all the effecting function the complete logic of this program runs with a time complexity of O(nlog n)**."
   ]
  },
  {
   "cell_type": "code",
   "execution_count": 1,
   "id": "d6dd7a89",
   "metadata": {},
   "outputs": [],
   "source": [
    "import random\n",
    "def main():\n",
    "    \"\"\"\n",
    "    Main Function called to initiate the logic\n",
    "    \"\"\"\n",
    "    \n",
    "    # Call the Print Greetings message\n",
    "    printGreetings()\n",
    "    \n",
    "    # Get the input from the user for size of list and the sum to be found\n",
    "    lstSize,target = getInput()\n",
    "    \n",
    "    # Generate a random list of the provided size lstSize from a range of 100 random numbers\n",
    "    lst = [random.randint(1, 100) for i in range(lstSize)]\n",
    "    \n",
    "    # Sort the list received from user,Here we are using merge sort for the process\n",
    "    sortedLst = mergeSort(lst)            \n",
    "    \n",
    "    #Find the pair Sum\n",
    "    a,b = findPairSum(sortedLst,target)\n",
    "    \n",
    "    #call the print function to display the output\n",
    "    printOutput(a,b,sortedLst,target,lstSize)\n",
    "    "
   ]
  },
  {
   "cell_type": "code",
   "execution_count": 2,
   "id": "8a98a20f",
   "metadata": {},
   "outputs": [],
   "source": [
    "def printGreetings():\n",
    "    \"\"\"\n",
    "    Function to print the greeting message with information\n",
    "    \"\"\"\n",
    "    \n",
    "    print('%80s' % \"******** WELCOME TO THE GOLDBACH DEUCE TEST  ********\")\n",
    "    print(\"\\n-> This program is written to find pairs in a list of random numbers which adds up to a target sum.\")\n",
    "    print(\"\\n-> Where the list size and target are received as integer from the user.\")\n",
    "    print(\"\\n-> Target is the number for which the pairs are to be fetched from a random list.\")\n",
    "    print(\"\\n\\n ASSUMPTION : *** Only +ve Integer Value is Provided by the user ***\")\n",
    "    print(\"\\n*******************************************************************************************\")\n"
   ]
  },
  {
   "cell_type": "code",
   "execution_count": 3,
   "id": "58174644",
   "metadata": {},
   "outputs": [],
   "source": [
    "def getInput():\n",
    "    \"\"\"\n",
    "    Function to get the input from the user\n",
    "    returns the desired size of list and the sum target\n",
    "    \"\"\"\n",
    "    \n",
    "    #Ask the user to provide the size of list and the sum target\n",
    "    lstSize = int(input(\"\\nEnter a +ve Integer number to define the size of list :: \"))\n",
    "    target = int(input(\"\\nEnter a +ve Integer number as target for which the pairs are to be fetched :: \"))\n",
    "    \n",
    "    return lstSize,target   # return the Expected list size and the target value\n"
   ]
  },
  {
   "cell_type": "code",
   "execution_count": 4,
   "id": "afcaa645",
   "metadata": {},
   "outputs": [],
   "source": [
    "def mergeSort(lst):\n",
    "    \"\"\"\n",
    "    Function to sort the list - Algorithm used is merge sort\n",
    "    lst : list to be sorted\n",
    "    returns a sorted list\n",
    "    \"\"\"\n",
    "    \n",
    "    lstLen = len(lst)                       # get the length of the provided list\n",
    "    if(lstLen > 1):                         # if length of the list is greater than 1\n",
    "        mid = lstLen // 2                   # get the mid of the list size\n",
    "        left = lst[:mid]                    # devide the list into two part left 0...mid value\n",
    "        right = lst[mid:]                   # right mid....actualLength\n",
    "         \n",
    "        # recursivey call the merge sort to devide the list into further halves\n",
    "        left = mergeSort(left)              # call the merge sort recursively for the left half\n",
    "        right = mergeSort(right)            # call the merge sort recursivelymfor the right half\n",
    "        \n",
    "        i=j=k=0                             # initialize the indexing varaibles to 0\n",
    "        leftLen = len(left)                 # get the lengh of the left half\n",
    "        rightLen = len(right)               # get the length of the right half\n",
    "        \n",
    "        while(i<leftLen and j < rightLen):  # Loop till the index i,j are less than length of left and right\n",
    "            if(left[i] < right[j]):         # If value of left index is less than the right index\n",
    "                lst[k] = left[i]            # populate the list with the lesser value i.e left[i]\n",
    "                i += 1                      # increase the i index by 1\n",
    "            else:\n",
    "                lst[k] = right[j]           # else populate the list with the lesser value i.e right[i]\n",
    "                j += 1                      # increase the j index by 1\n",
    "            k += 1                          # increase the k index by 1 for next insertion \n",
    "            \n",
    "        # Check in any values were left out form the left half\n",
    "        while(i<leftLen):                   # while the i index is still less than the length of left half\n",
    "            lst[k] = left[i]                # populate the list with the left[i]\n",
    "            i += 1                          # increase the i index by 1\n",
    "            k += 1                          # increase the k index by 1\n",
    "            \n",
    "        # Check in any values were left out form the left half\n",
    "        while(j<rightLen):                  # while the j index is still less than the length of right half      \n",
    "            lst[k] = right[j]               # populate the list with the right[j]\n",
    "            j += 1                          # increase the j index by 1                \n",
    "            k += 1                          # increase the k index by 1\n",
    "    \n",
    "    return lst                              # return the final list\n"
   ]
  },
  {
   "cell_type": "code",
   "execution_count": 25,
   "id": "53001658",
   "metadata": {},
   "outputs": [],
   "source": [
    "def findPairSum(lst,target):\n",
    "    \"\"\"\n",
    "    Function to find the pair of numbers that adds up to target from the list\n",
    "    lst : list from which the pair is to be found\n",
    "    target : the sum value to which the pair is to be gethed\n",
    "    \"\"\"\n",
    "    \n",
    "    sizeLst = len(lst)-1               # set the sizelst as length of list - 1 \n",
    "    \n",
    "    #num1 and num2 initailized to 0 as no pair found\n",
    "    num1 = 0                           \n",
    "    num2 = 0                           \n",
    "\n",
    "    # Iterate through the list and do a binary search for the second pair which adds up to the target.\n",
    "    for num in lst:\n",
    "        index = 0\n",
    "        result = target - num          # calculates the result as second number to be searched\n",
    "\n",
    "        # call the binarySearch to find the second pair\n",
    "        pairNum = binarySearch(lst, result, index+1, sizeLst)\n",
    "        if(pairNum == -1):         # If the fetched number is -1 increase the index and continue the loop\n",
    "            index += 1\n",
    "            continue               \n",
    "        else:\n",
    "            num1 = num             # set the 1st pair as the current iteration number from list\n",
    "            num2 = pairNum         # set the 2nd pair as the binary searched number\n",
    "            break                  # and break the loop since we are fetching first occurance\n",
    "            \n",
    "    return num1,num2                   # return the pair of number\n"
   ]
  },
  {
   "cell_type": "code",
   "execution_count": 6,
   "id": "96af930d",
   "metadata": {},
   "outputs": [],
   "source": [
    "def binarySearch(lst, result, low, high):\n",
    "    \"\"\"\n",
    "    Function to do a binary search from a list of numbers recursively\n",
    "    lst : list to search from, \n",
    "    result : number to be searched,\n",
    "    low : start index of list,\n",
    "    high : end index of list\n",
    "    \"\"\"\n",
    "    \n",
    "    if(low > high):                   # when the start index is greater than the end index\n",
    "        return -1                     # return -1 , as there is no pair found and we have reached the end of search\n",
    "    \n",
    "    mid = (low + high)// 2            # calculate the mid of the list\n",
    "    item = lst[mid]                   # set item as the mid value of the list\n",
    "    if( result == item):              # if the number to be fetched is same the mid value\n",
    "        return result                 # return the value\n",
    "    # else search the item either in the left of the mid or to the right of the mid\n",
    "    elif(result<item):\n",
    "        # Recursively call binary search to be searched in left halh, Range low to mid -1\n",
    "        return binarySearch(lst, result, low, mid-1)       \n",
    "    else:\n",
    "        # Recursvely call binary search to be searched in right half, Range mid+1 to high\n",
    "        return binarySearch(lst, result, mid+1, high)\n",
    " "
   ]
  },
  {
   "cell_type": "code",
   "execution_count": 7,
   "id": "9bda47a4",
   "metadata": {},
   "outputs": [],
   "source": [
    "def printOutput(a,b,sortedLst,target,lstSize):\n",
    "    \"\"\"\n",
    "    Function to print the output of the test\n",
    "    a : 1st pair number\n",
    "    b : 2nd pair number\n",
    "    sortedLst : sorted list to be printed\n",
    "    target : the sum value for which the pair is fetched\n",
    "    lstSize : the size of the list entered by user\n",
    "    \"\"\"\n",
    "    \n",
    "    # print the list specifying the size \n",
    "    print(\"\\nSorted random List of Size::::{}\\n{}\".format(lstSize,sortedLst))\n",
    "    # if one of the number is 0 that means the pair is not found\n",
    "    if(a==0):\n",
    "        # print the message -ve result , pair not found \n",
    "        print(\"\\n!!!You Are Unlucky!!! No numbers sum up to {}.\".format(target))\n",
    "    else:\n",
    "        # print the message +ve result , pair found with both the number and the sum value\n",
    "        print(\"\\n!!!You Are Lucky !!! Pair Exists, {} and {} sums up to {}\".format(a,b,target))\n"
   ]
  },
  {
   "cell_type": "code",
   "execution_count": 141,
   "id": "acaa83ed",
   "metadata": {},
   "outputs": [
    {
     "name": "stdout",
     "output_type": "stream",
     "text": [
      "                           ******** WELCOME TO THE GOLDBACH DEUCE TEST  ********\n",
      "\n",
      "-> This program is written to find pairs in a list of random numbers which adds up to a target sum.\n",
      "\n",
      "-> Where the list size and target are received as integer from the user.\n",
      "\n",
      "-> Target is the number for which the pairs are to be fetched from a random list.\n",
      "\n",
      "\n",
      " ASSUMPTION : *** Only +ve Integer Value is Provided by the user ***\n",
      "\n",
      "*******************************************************************************************\n",
      "\n",
      "Enter a +ve Integer number to define the size of list :: -1\n",
      "\n",
      "Enter a +ve Integer number as target for which the pairs are to be fetched :: -1\n",
      "\n",
      "Sorted random List of Size::::-1\n",
      "[]\n",
      "\n",
      "!!!You Are Unlucky!!! No numbers sum up to -1.\n"
     ]
    }
   ],
   "source": [
    "main()"
   ]
  },
  {
   "cell_type": "code",
   "execution_count": 144,
   "id": "83e8791a",
   "metadata": {},
   "outputs": [
    {
     "name": "stdout",
     "output_type": "stream",
     "text": [
      "                           ******** WELCOME TO THE GOLDBACH DEUCE TEST  ********\n",
      "\n",
      "-> This program is written to find pairs in a list of random numbers which adds up to a target sum.\n",
      "\n",
      "-> Where the list size and target are received as integer from the user.\n",
      "\n",
      "-> Target is the number for which the pairs are to be fetched from a random list.\n",
      "\n",
      "\n",
      " ASSUMPTION : *** Only +ve Integer Value is Provided by the user ***\n",
      "\n",
      "*******************************************************************************************\n",
      "\n",
      "Enter a +ve Integer number to define the size of list :: 0\n",
      "\n",
      "Enter a +ve Integer number as target for which the pairs are to be fetched :: 0\n",
      "\n",
      "Sorted random List of Size::::0\n",
      "[]\n",
      "\n",
      "!!!You Are Unlucky!!! No numbers sum up to 0.\n"
     ]
    }
   ],
   "source": [
    "main()"
   ]
  },
  {
   "cell_type": "code",
   "execution_count": 145,
   "id": "0ae621af",
   "metadata": {},
   "outputs": [
    {
     "name": "stdout",
     "output_type": "stream",
     "text": [
      "                           ******** WELCOME TO THE GOLDBACH DEUCE TEST  ********\n",
      "\n",
      "-> This program is written to find pairs in a list of random numbers which adds up to a target sum.\n",
      "\n",
      "-> Where the list size and target are received as integer from the user.\n",
      "\n",
      "-> Target is the number for which the pairs are to be fetched from a random list.\n",
      "\n",
      "\n",
      " ASSUMPTION : *** Only +ve Integer Value is Provided by the user ***\n",
      "\n",
      "*******************************************************************************************\n",
      "\n",
      "Enter a +ve Integer number to define the size of list :: 5\n",
      "\n",
      "Enter a +ve Integer number as target for which the pairs are to be fetched :: 8\n",
      "\n",
      "Sorted random List of Size::::5\n",
      "[26, 34, 45, 55, 79]\n",
      "\n",
      "!!!You Are Unlucky!!! No numbers sum up to 8.\n"
     ]
    }
   ],
   "source": [
    "main()"
   ]
  },
  {
   "cell_type": "code",
   "execution_count": 155,
   "id": "7e6ea1f0",
   "metadata": {},
   "outputs": [
    {
     "name": "stdout",
     "output_type": "stream",
     "text": [
      "                           ******** WELCOME TO THE GOLDBACH DEUCE TEST  ********\n",
      "\n",
      "-> This program is written to find pairs in a list of random numbers which adds up to a target sum.\n",
      "\n",
      "-> Where the list size and target are received as integer from the user.\n",
      "\n",
      "-> Target is the number for which the pairs are to be fetched from a random list.\n",
      "\n",
      "\n",
      " ASSUMPTION : *** Only +ve Integer Value is Provided by the user ***\n",
      "\n",
      "*******************************************************************************************\n",
      "\n",
      "Enter a +ve Integer number to define the size of list :: 10\n",
      "\n",
      "Enter a +ve Integer number as target for which the pairs are to be fetched :: 62\n",
      "\n",
      "Sorted random List of Size::::10\n",
      "[2, 18, 21, 40, 41, 43, 59, 81, 90, 95]\n",
      "\n",
      "!!!You Are Lucky !!! Pair Exists, 21 and 41 sums up to 62\n"
     ]
    }
   ],
   "source": [
    "main()"
   ]
  },
  {
   "cell_type": "code",
   "execution_count": 156,
   "id": "e619f049",
   "metadata": {},
   "outputs": [
    {
     "name": "stdout",
     "output_type": "stream",
     "text": [
      "                           ******** WELCOME TO THE GOLDBACH DEUCE TEST  ********\n",
      "\n",
      "-> This program is written to find pairs in a list of random numbers which adds up to a target sum.\n",
      "\n",
      "-> Where the list size and target are received as integer from the user.\n",
      "\n",
      "-> Target is the number for which the pairs are to be fetched from a random list.\n",
      "\n",
      "\n",
      " ASSUMPTION : *** Only +ve Integer Value is Provided by the user ***\n",
      "\n",
      "*******************************************************************************************\n",
      "\n",
      "Enter a +ve Integer number to define the size of list :: 100\n",
      "\n",
      "Enter a +ve Integer number as target for which the pairs are to be fetched :: 83\n",
      "\n",
      "Sorted random List of Size::::100\n",
      "[1, 1, 1, 3, 3, 4, 5, 6, 7, 7, 7, 7, 7, 8, 11, 11, 13, 14, 15, 17, 17, 20, 21, 22, 22, 23, 24, 25, 25, 28, 28, 31, 31, 33, 34, 34, 35, 36, 37, 38, 38, 41, 41, 42, 44, 46, 47, 48, 48, 48, 48, 51, 51, 51, 52, 53, 55, 56, 57, 58, 58, 58, 58, 59, 61, 62, 63, 65, 66, 67, 69, 70, 70, 70, 70, 70, 71, 75, 78, 79, 82, 83, 85, 87, 87, 88, 90, 92, 92, 92, 93, 93, 94, 96, 96, 97, 99, 99, 100, 100]\n",
      "\n",
      "!!!You Are Lucky !!! Pair Exists, 1 and 82 sums up to 83\n"
     ]
    }
   ],
   "source": [
    "main()"
   ]
  },
  {
   "cell_type": "code",
   "execution_count": 157,
   "id": "d6621b0c",
   "metadata": {},
   "outputs": [
    {
     "name": "stdout",
     "output_type": "stream",
     "text": [
      "                           ******** WELCOME TO THE GOLDBACH DEUCE TEST  ********\n",
      "\n",
      "-> This program is written to find pairs in a list of random numbers which adds up to a target sum.\n",
      "\n",
      "-> Where the list size and target are received as integer from the user.\n",
      "\n",
      "-> Target is the number for which the pairs are to be fetched from a random list.\n",
      "\n",
      "\n",
      " ASSUMPTION : *** Only +ve Integer Value is Provided by the user ***\n",
      "\n",
      "*******************************************************************************************\n",
      "\n",
      "Enter a +ve Integer number to define the size of list :: 1000\n",
      "\n",
      "Enter a +ve Integer number as target for which the pairs are to be fetched :: 782\n",
      "\n",
      "Sorted random List of Size::::1000\n",
      "[1, 1, 1, 1, 1, 1, 1, 1, 1, 1, 1, 2, 2, 2, 2, 2, 2, 2, 2, 2, 2, 3, 3, 3, 3, 3, 3, 3, 4, 4, 4, 4, 4, 4, 4, 4, 4, 4, 5, 5, 5, 5, 5, 5, 5, 5, 5, 5, 5, 6, 6, 6, 6, 6, 6, 7, 7, 7, 7, 7, 7, 7, 7, 8, 8, 8, 8, 8, 8, 8, 8, 9, 9, 9, 9, 9, 10, 10, 10, 10, 10, 10, 10, 10, 10, 11, 11, 11, 11, 11, 11, 11, 11, 11, 11, 12, 12, 12, 12, 12, 12, 12, 12, 12, 12, 12, 12, 12, 12, 12, 12, 13, 13, 13, 13, 13, 13, 13, 13, 13, 13, 13, 13, 13, 14, 14, 14, 14, 14, 14, 14, 14, 14, 14, 14, 14, 14, 14, 15, 15, 15, 15, 15, 15, 15, 16, 16, 16, 16, 16, 16, 16, 16, 16, 16, 16, 17, 17, 17, 17, 17, 17, 17, 17, 18, 18, 18, 18, 18, 18, 18, 18, 18, 18, 18, 18, 18, 19, 19, 19, 19, 19, 19, 19, 20, 20, 20, 20, 21, 21, 21, 21, 21, 21, 21, 22, 22, 22, 22, 22, 22, 22, 22, 22, 22, 22, 22, 22, 22, 22, 22, 22, 23, 23, 23, 23, 23, 23, 23, 23, 23, 23, 23, 23, 23, 23, 23, 24, 24, 24, 24, 24, 24, 24, 24, 24, 25, 25, 25, 25, 25, 25, 25, 25, 26, 26, 26, 26, 26, 26, 26, 26, 26, 26, 26, 26, 26, 26, 26, 27, 27, 27, 27, 27, 27, 27, 27, 27, 28, 28, 28, 28, 28, 28, 28, 29, 29, 29, 29, 29, 29, 29, 29, 29, 29, 29, 29, 29, 29, 29, 29, 30, 30, 30, 30, 30, 30, 30, 30, 30, 30, 31, 31, 31, 31, 31, 31, 31, 31, 31, 31, 31, 31, 31, 31, 31, 31, 31, 31, 32, 32, 32, 32, 32, 32, 32, 32, 32, 32, 32, 32, 32, 32, 32, 33, 33, 33, 33, 33, 33, 33, 33, 33, 33, 33, 33, 34, 34, 34, 34, 34, 34, 34, 35, 35, 35, 35, 35, 35, 35, 36, 36, 36, 36, 36, 36, 36, 36, 37, 37, 37, 37, 37, 37, 37, 37, 38, 38, 38, 38, 38, 38, 38, 39, 39, 39, 39, 39, 39, 39, 39, 39, 39, 39, 39, 39, 40, 40, 40, 40, 40, 40, 40, 40, 40, 40, 40, 41, 41, 41, 41, 41, 41, 41, 41, 41, 41, 42, 42, 42, 43, 43, 43, 43, 43, 43, 43, 43, 43, 43, 43, 43, 43, 44, 44, 44, 44, 44, 44, 44, 44, 44, 44, 44, 44, 44, 44, 44, 45, 45, 45, 45, 45, 45, 46, 46, 46, 46, 47, 47, 47, 47, 47, 47, 47, 47, 47, 48, 48, 48, 49, 49, 49, 49, 49, 49, 49, 49, 49, 49, 49, 49, 50, 50, 50, 50, 50, 50, 50, 50, 50, 50, 50, 50, 50, 51, 51, 51, 51, 51, 51, 51, 51, 51, 51, 52, 52, 52, 52, 52, 52, 52, 52, 52, 52, 52, 52, 52, 52, 52, 52, 52, 53, 53, 53, 53, 53, 53, 53, 53, 53, 53, 54, 54, 54, 54, 54, 54, 54, 55, 55, 55, 55, 55, 55, 55, 55, 55, 55, 56, 56, 56, 56, 56, 56, 56, 57, 57, 57, 57, 57, 57, 57, 58, 58, 58, 58, 58, 58, 58, 58, 58, 58, 59, 59, 59, 59, 59, 59, 59, 59, 59, 59, 59, 59, 59, 59, 60, 60, 60, 60, 60, 60, 60, 60, 60, 61, 61, 61, 61, 61, 61, 61, 61, 61, 61, 61, 61, 62, 62, 62, 62, 62, 63, 63, 63, 63, 63, 63, 63, 63, 63, 63, 63, 64, 64, 64, 64, 64, 64, 64, 64, 64, 64, 64, 65, 65, 65, 65, 65, 65, 65, 65, 65, 65, 66, 66, 66, 66, 66, 66, 66, 66, 66, 66, 66, 66, 66, 66, 67, 67, 67, 67, 67, 67, 67, 67, 67, 68, 68, 68, 68, 68, 68, 68, 68, 68, 68, 69, 69, 69, 69, 69, 69, 69, 70, 70, 70, 70, 70, 70, 70, 70, 70, 70, 70, 71, 71, 71, 71, 71, 71, 71, 71, 71, 71, 71, 71, 71, 71, 71, 71, 71, 72, 72, 72, 72, 72, 72, 72, 72, 72, 72, 73, 73, 73, 73, 73, 73, 73, 73, 73, 74, 74, 74, 74, 74, 74, 74, 74, 74, 74, 75, 75, 75, 75, 75, 75, 75, 75, 75, 75, 75, 75, 75, 75, 76, 76, 76, 76, 76, 76, 76, 76, 76, 76, 76, 76, 76, 76, 76, 77, 77, 77, 77, 77, 77, 77, 78, 78, 78, 78, 78, 78, 78, 78, 78, 79, 79, 79, 79, 79, 79, 79, 79, 79, 80, 80, 80, 80, 80, 80, 80, 81, 81, 81, 81, 81, 81, 81, 81, 81, 81, 81, 81, 82, 82, 82, 82, 82, 82, 82, 82, 82, 83, 83, 83, 83, 83, 83, 83, 83, 83, 83, 83, 84, 84, 84, 84, 84, 84, 84, 84, 84, 84, 84, 85, 85, 85, 85, 85, 85, 85, 85, 86, 86, 86, 86, 86, 86, 86, 86, 86, 87, 87, 87, 87, 87, 87, 87, 87, 87, 87, 87, 87, 87, 87, 87, 88, 88, 88, 88, 88, 88, 88, 89, 89, 89, 89, 89, 89, 89, 89, 89, 89, 89, 89, 89, 89, 89, 90, 90, 90, 90, 90, 90, 90, 90, 91, 91, 91, 91, 91, 91, 91, 92, 92, 92, 92, 92, 92, 92, 92, 93, 93, 93, 93, 93, 93, 93, 93, 93, 93, 94, 94, 94, 94, 94, 94, 94, 94, 94, 94, 94, 95, 95, 95, 95, 95, 95, 95, 95, 95, 95, 95, 95, 95, 96, 96, 96, 96, 96, 96, 96, 96, 97, 97, 97, 97, 97, 97, 97, 98, 98, 98, 98, 98, 99, 99, 99, 99, 99, 99, 99, 99, 99, 99, 99, 99, 99, 100, 100, 100, 100, 100, 100, 100, 100, 100, 100]\n",
      "\n",
      "!!!You Are Unlucky!!! No numbers sum up to 782.\n"
     ]
    }
   ],
   "source": [
    "main()"
   ]
  },
  {
   "cell_type": "code",
   "execution_count": 28,
   "id": "10e49b21",
   "metadata": {},
   "outputs": [
    {
     "name": "stdout",
     "output_type": "stream",
     "text": [
      "                           ******** WELCOME TO THE GOLDBACH DEUCE TEST  ********\n",
      "\n",
      "-> This program is written to find pairs in a list of random numbers which adds up to a target sum.\n",
      "\n",
      "-> Where the list size and target are received as integer from the user.\n",
      "\n",
      "-> Target is the number for which the pairs are to be fetched from a random list.\n",
      "\n",
      "\n",
      " ASSUMPTION : *** Only +ve Integer Value is Provided by the user ***\n",
      "\n",
      "*******************************************************************************************\n",
      "\n",
      "Enter a +ve Integer number to define the size of list :: 100\n",
      "\n",
      "Enter a +ve Integer number as target for which the pairs are to be fetched :: 2\n",
      "\n",
      "Sorted random List of Size::::100\n",
      "[1, 1, 2, 2, 3, 8, 9, 10, 10, 13, 14, 15, 17, 19, 19, 19, 20, 20, 22, 22, 22, 22, 23, 24, 24, 25, 25, 26, 26, 27, 27, 30, 30, 31, 31, 31, 32, 32, 32, 33, 34, 35, 35, 36, 38, 40, 41, 41, 42, 44, 45, 46, 48, 49, 49, 53, 54, 54, 55, 55, 56, 57, 58, 58, 58, 60, 60, 64, 64, 65, 66, 66, 67, 68, 69, 69, 70, 73, 75, 76, 77, 77, 79, 83, 85, 85, 86, 87, 87, 89, 91, 91, 93, 95, 97, 98, 98, 98, 99, 100]\n",
      "\n",
      "!!!You Are Lucky !!! Pair Exists, 1 and 1 sums up to 2\n"
     ]
    }
   ],
   "source": [
    "main()"
   ]
  }
 ],
 "metadata": {
  "kernelspec": {
   "display_name": "Python 3 (ipykernel)",
   "language": "python",
   "name": "python3"
  },
  "language_info": {
   "codemirror_mode": {
    "name": "ipython",
    "version": 3
   },
   "file_extension": ".py",
   "mimetype": "text/x-python",
   "name": "python",
   "nbconvert_exporter": "python",
   "pygments_lexer": "ipython3",
   "version": "3.9.13"
  }
 },
 "nbformat": 4,
 "nbformat_minor": 5
}
