{
 "cells": [
  {
   "cell_type": "markdown",
   "id": "3213d1c0",
   "metadata": {},
   "source": [
    "#    JITEN MISHRA  DSC430_Assignment0101   \n",
    "##   I have not given or received any unauthorized assistance on this assignment."
   ]
  },
  {
   "cell_type": "code",
   "execution_count": 1,
   "id": "a65a67d3",
   "metadata": {},
   "outputs": [],
   "source": [
    "# Define Functions to help calculate the grading logic\n",
    "\n",
    "#default user Response as YES to be compared in the logic\n",
    "default_userResp = 'Y'\n",
    "\n",
    "#Function to getBoolean for response - Elliminating repeated code\n",
    "def getBoolean(userResp):\n",
    "    #type cast to upper to compare \n",
    "    if userResp.upper() == default_userResp:\n",
    "        return True\n",
    "    else:\n",
    "        return False\n",
    "\n",
    "#Function to return boolean based on response from USER Yes/No for Assignment including Name \n",
    "def includesName():        \n",
    "    userResp = input(\"Does the Assignment include the Aurthor Name (Y/N) ? \")\n",
    "    return getBoolean(userResp)\n",
    "    \n",
    "#Function to return boolean based on response from USER Yes/No for Correct File \n",
    "def isCorrectFile():\n",
    "    userResp = input(\"Is the assignment submitted as a Jupyter Notebook file (Y/N) ? \")\n",
    "    return getBoolean(userResp)\n",
    "\n",
    "#Function to return boolean based on response from USER Yes/No for including assignment number \n",
    "def includesAsgnNumber():\n",
    "    userResp = input(\"Do the assignment includes the Assignment Number (Y/N) ? \")\n",
    "    return getBoolean(userResp)\n",
    "\n",
    "def includesHonorStmnt():\n",
    "    userResp = input(\"Does the assignment include the honor statement, “I have not given or received any\"\n",
    "                        + \" unauthorized assistance on this assignment” \" + \"(Y/N) ? \")\n",
    "    return getBoolean(userResp)      \n",
    "\n",
    "#uncomment below lines to test the above functions    \n",
    "#isCorrectFile() \n",
    "#includesName()\n",
    "#includesAsgnNumber()\n",
    "#includesHonorStmnt()\n"
   ]
  },
  {
   "cell_type": "markdown",
   "id": "652f62d4",
   "metadata": {},
   "source": [
    "### **Grading Criteria** for Assignment\n",
    " * 0 to 10 awarded for correctness of code\n",
    " * 0 to 10 awarded on elegance of code\n",
    " * 0 to 10 awarded on code hygiene\n",
    " * 0 to 10 awarded based on quality of dicussion"
   ]
  },
  {
   "cell_type": "code",
   "execution_count": 2,
   "id": "1ef7f46b",
   "metadata": {},
   "outputs": [],
   "source": [
    "#Function to calculate the grade based on the USER input and Grading criteria\n",
    "def getGrade():\n",
    "    totalGrade = 0\n",
    "    \n",
    "    # Get the user input based on the grading Criteria\n",
    "    totalGrade = totalGrade + eval(input(\"Based on correctness of the code how much whould you\" \n",
    "                                                \" rate from 0 to 10 ? \"))\n",
    "    totalGrade = totalGrade + eval(input(\"Based on elegance of the code how much would you\"\n",
    "                                                \" rate from 0 to 10 ? \"))\n",
    "    totalGrade = totalGrade + eval(input(\"Based on hygine of the code how much would you\"\n",
    "                                                \" rate from 0 to 10 ? \"))\n",
    "    totalGrade = totalGrade + eval(input(\"Based on quality of dicussion in the YouTube video how much would you\"\n",
    "                                                \" rate from 0 to 10 ? \"))\n",
    "    \n",
    "    print(\"\\n\" +\"Total Grade Awarded : %d\" %totalGrade)\n",
    "    return totalGrade        #return total grade calculated\n",
    "    \n",
    "#uncomment below lines to test the above functions\n",
    "#getGrade()"
   ]
  },
  {
   "cell_type": "markdown",
   "id": "d41d408c",
   "metadata": {},
   "source": [
    "### Penalty on **LATE** Submission\n",
    " * 1% of the Total grade per hour is deducted\n",
    " * Points to be decucted from the total grade obtained in the above step"
   ]
  },
  {
   "cell_type": "code",
   "execution_count": 3,
   "id": "2798a3ff",
   "metadata": {},
   "outputs": [],
   "source": [
    "#Function to deduct points from the awareded grade if the submission is late\n",
    "def lateSubPenalty(totalGrade):\n",
    "    # Get the user input of no of hours the assignment was submitted late\n",
    "    hrsLate = eval(input(\"How Many Hours late was the assignment submited ? \"))\n",
    "    \n",
    "    # 1% deduction of the total points as penalty\n",
    "    penalty = (totalGrade * 0.01) * hrsLate\n",
    "    \n",
    "    print(\"Late Submission Hours :: %d , Penalty Points :: %.2f\" %(hrsLate,penalty))\n",
    "    return penalty    #return penalty claculated \n",
    "\n",
    "#uncomment below lines to test the above functions\n",
    "#lateSubPenalty(90)"
   ]
  },
  {
   "cell_type": "markdown",
   "id": "69c741fa",
   "metadata": {},
   "source": [
    "### Function to compute the Grade and print the output\n",
    " * Check the Correction of the Assighment\n",
    " * Get the Grades\n",
    " * Check if there is any delay\n",
    " * Calculate the penalty\n",
    " * Deduct the penalty and get the final grade"
   ]
  },
  {
   "cell_type": "code",
   "execution_count": 6,
   "id": "15f007a4",
   "metadata": {},
   "outputs": [
    {
     "name": "stdout",
     "output_type": "stream",
     "text": [
      "!!!!!! Discalimer !!!!!! Any Answer other than Y/N to Y/N question is treated as N by default \n",
      "!!!!!! Discalimer !!!!!! All Grades to be awared as positive integer numbers \n",
      " \n",
      "Is the assignment submitted as a Jupyter Notebook file (Y/N) ? Y\n",
      "Does the Assignment include the Aurthor Name (Y/N) ? Y\n",
      "Do the assignment includes the Assignment Number (Y/N) ? y\n",
      "Does the assignment include the honor statement, “I have not given or received any unauthorized assistance on this assignment” (Y/N) ? y\n",
      "\n",
      "The Grading Computaiton of the assignment passed all the Grading Criteria\n",
      "\n",
      "Based on correctness of the code how much whould you rate from 0 to 10 ? 10\n",
      "Based on elegance of the code how much would you rate from 0 to 10 ? 10\n",
      "Based on hygine of the code how much would you rate from 0 to 10 ? 10\n",
      "Based on quality of dicussion in the YouTube video how much would you rate from 0 to 10 ? 10\n",
      "\n",
      "Total Grade Awarded : 40\n",
      "\n",
      "Was there any delay in submission of the assignment (Y/N)y\n",
      "How Many Hours late was the assignment submited ? 3\n",
      "Late Submission Hours :: 3 , Penalty Points :: 1.20\n",
      "\n",
      "Total Grades awared after deduction of penalty :: 38.80\n"
     ]
    }
   ],
   "source": [
    "#Call the helper methods in each computational step to determine the grading criteria\n",
    "def computeGrade():\n",
    "    \n",
    "    #Print a disclaimer that any answer other than Y/N is treated as N\n",
    "    print(\"!!!!!! Discalimer !!!!!! Any Answer other than Y/N to Y/N question is treated as N by default \")\n",
    "    print(\"!!!!!! Discalimer !!!!!! All Grades to be awared as positive integer numbers \\n \")\n",
    "    if not( isCorrectFile() ):                            #helper fuction isCorrectFile() called\n",
    "        print(\"The assignment is not a Jupyter Notebook File\")\n",
    "        return 0                                          #if file was incorrect, return 0    \n",
    "\n",
    "    if not( includesName() ):                             #helper function includesName() called\n",
    "        print(\"The assignment does not include aurthor's Name\")\n",
    "        return 0                                          #if no name, return 0 \n",
    "    \n",
    "    if not( includesAsgnNumber() ):                       #helper function includesAsgnNumber called \n",
    "        print(\"The assignment does not include the assignment Number\")\n",
    "        return 0                                          #if no assignment number, return 0\n",
    "    \n",
    "    if not( includesHonorStmnt() ):                       #helper function includesHonorStmnt called \n",
    "        print(\"The assignment does not have a honor statement\")\n",
    "        return 0                                          #if no honor stament, return 0\n",
    "    \n",
    "    print(\"\\nThe Grading Computaiton of the assignment passed all the Grading Criteria\\n\")\n",
    "    \n",
    "    #Get the grades for the assignment by calling the helper funtion\n",
    "    totalGrade = getGrade()\n",
    "    \n",
    "    #Check if there was a delay in submission of the assignment\n",
    "    isDelay = input(\"\\nWas there any delay in submission of the assignment (Y/N)\")\n",
    "    \n",
    "    #if there was a delay then calculate the late submission penalty by calling the helper function\n",
    "    if(getBoolean(isDelay)):\n",
    "        totalGrade = totalGrade - lateSubPenalty(totalGrade)\n",
    "    else:\n",
    "        print(\"Late Submission Hours :: 0 , Penalty Points :: 0\")\n",
    "        \n",
    "    print(\"\\nTotal Grades awared after deduction of penalty :: %.2f\" %totalGrade)\n",
    "    \n",
    "computeGrade() #call the computeGrade function "
   ]
  }
 ],
 "metadata": {
  "kernelspec": {
   "display_name": "Python 3 (ipykernel)",
   "language": "python",
   "name": "python3"
  },
  "language_info": {
   "codemirror_mode": {
    "name": "ipython",
    "version": 3
   },
   "file_extension": ".py",
   "mimetype": "text/x-python",
   "name": "python",
   "nbconvert_exporter": "python",
   "pygments_lexer": "ipython3",
   "version": "3.9.13"
  }
 },
 "nbformat": 4,
 "nbformat_minor": 5
}
