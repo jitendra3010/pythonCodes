{
 "cells": [
  {
   "cell_type": "markdown",
   "id": "c06eea2b",
   "metadata": {},
   "source": [
    "#   JITEN MISHRA DSC430_Assignment0102_Coprime\n",
    "##  I have not given or received any unauthorized assistance on this assignment."
   ]
  },
  {
   "cell_type": "markdown",
   "id": "d5a94998",
   "metadata": {},
   "source": [
    "##  Efficiency and Asumptions of the Code\n",
    "\n",
    " * Function coprime has adopted a algorithm where the 1st number is swapped with 2d number and \n",
    " *    2nd numbers is swapped with modulus value of 1st and 2nd in each iteration till the modulus value is 0 \n",
    " *    Example explaining the logic : a,b = 13,37 \n",
    " *    Iteration 1: (Input a=13 , b=37) , a = b = 37 , b = a%b = 13%37 = 13\n",
    " *    Iteration 2: (Input a=37 , b=13) , a = b = 13 , b = a%b = 37%13 = 11\n",
    " *    Iteration 3: (Input a=13 , b=11) , a = b = 11 , b = a%b = 13%11 = 2\n",
    " *    Iteration 4: (Input a=11 , b=2)  , a = b = 2  , b = a%b = 11%2  = 1\n",
    " *    Iteration 5: (Input a=2  , b=1)  , a = b = 1  , b = a%b = 2%1   = 0\n",
    " * The while loop breaks on condtion having a as 1 while b = 0\n",
    " \n",
    "#### This logic prooves that 1 is the only integer that devides both the numbers.\n",
    "\n",
    "\n",
    " * The above logic has avoided multiple loop iteration from 0 to max of numbers of 0 to min of numbers\n",
    " * We could have also acheived the output with logic of finding the factors of the numbers individually\n",
    " * And then comparing to see if there are any common factors \n",
    " * But that logic would have required multiple for/while loops\n",
    "\n",
    "###  Hence the logic that we have implemented is more efficient.\n",
    "\n",
    " * Instead of making assumption that the USER will enter positive value numbers\n",
    " * We have implemented try->except in the **coprime_test_loop** function to check if invalid numbers are entered \n",
    " * The user could have broke the logic of the code by enterting negative value or 0\n",
    " * We Assume that the user enters choice of Y and nothing else for the code to execute.\n",
    " * anything Entered other than Y is treated as the customer do not wants to continue"
   ]
  },
  {
   "cell_type": "code",
   "execution_count": 1,
   "id": "9ee41dc9",
   "metadata": {},
   "outputs": [],
   "source": [
    "# Funciton coprime(a,b) accepts two number and return True/False based on computational logic \n",
    "# Two integers a and b are said to be coprime if the only positive integer that divides both\n",
    "# of them is 1.\n",
    "# Input of the function two integer and output Boolean true/false\n",
    "def coprime(a,b):\n",
    "    \n",
    "    while b != 0:            #Loop until the second number is not equals 0\n",
    "        a, b = b, a%b        #Swap a with b and b with modulus of a and b for the next iteration\n",
    "        \n",
    "                             #Return True if after the end of above iteration \n",
    "    return a == 1            #the first number is equals 1 else false\n",
    "\n",
    "#uncomment the below line to test the above code\n",
    "#coprime(12,36)"
   ]
  },
  {
   "cell_type": "markdown",
   "id": "d2c5444c",
   "metadata": {},
   "source": [
    "### The Function coprime_test_loop receives two numbers from user and prints the result with below steps\n",
    " * Raises excpetion if the user enters numbers < 2\n",
    " * calls the coprime funtion with input of the received numbers a,b\n",
    " * captutes the user wish to continue and breaks the loop if anything other than Y or y is entered as input"
   ]
  },
  {
   "cell_type": "code",
   "execution_count": 2,
   "id": "a59ffcba",
   "metadata": {},
   "outputs": [
    {
     "name": "stdout",
     "output_type": "stream",
     "text": [
      "                                     COPRIME TEST CALCULATOR\n",
      "\n",
      "Enter the 1st Number : 13\n",
      "Enter the 2nd Number : 37\n",
      "\n",
      "The Number 13 and 37 are COPRIME ::: Do you wish to continue (Y/N) ? Y\n",
      "\n",
      "Enter the 1st Number : 12\n",
      "Enter the 2nd Number : 24\n",
      "\n",
      "The Number 12 and 24 are NOT COPRIME ::: Do you wish to continue (Y/N) ? Y\n",
      "\n",
      "Enter the 1st Number : 2\n",
      "Enter the 2nd Number : 2\n",
      "\n",
      "The Number 2 and 2 are NOT COPRIME ::: Do you wish to continue (Y/N) ? Y\n",
      "\n",
      "Enter the 1st Number : -1\n",
      "\n",
      "Invalid input. Please enter a number between 2 and 9007199254740991. \n",
      "\n",
      "Enter the 1st Number : 0\n",
      "\n",
      "Invalid input. Please enter a number between 2 and 9007199254740991. \n",
      "\n",
      "Enter the 1st Number : 677\n",
      "Enter the 2nd Number : 876\n",
      "\n",
      "The Number 677 and 876 are COPRIME ::: Do you wish to continue (Y/N) ? Y\n",
      "\n",
      "Enter the 1st Number : 1024\n",
      "Enter the 2nd Number : 1998877\n",
      "\n",
      "The Number 1024 and 1998877 are COPRIME ::: Do you wish to continue (Y/N) ? Y\n",
      "\n",
      "Enter the 1st Number : 654\n",
      "Enter the 2nd Number : 784\n",
      "\n",
      "The Number 654 and 784 are NOT COPRIME ::: Do you wish to continue (Y/N) ? N\n"
     ]
    }
   ],
   "source": [
    "def coprime_test_loop():\n",
    "    flag = \"Y\"                                             # flag to capture the user wish to continue execution\n",
    "    \n",
    "    try:                                                   # try block to handle raised exception\n",
    "        while(flag.upper() == \"Y\"):                        # Execution loop with condition of flag as Y \n",
    "            a = eval(input(\"\\nEnter the 1st Number : \"))   # capture the 1st number from user\n",
    "            if(a<2):                                       # if the number is < 2 raise exception    \n",
    "                raise ValueError\n",
    "            b = eval(input(\"Enter the 2nd Number : \"))     # capture the 2snd number from user\n",
    "            if(b<2):                                       # if the number is < 2 raise exception \n",
    "                raise ValueError\n",
    "\n",
    "            if(coprime(a,b)):                              # call the coprime function in condition of execution\n",
    "                # show the result and capture the user wish to continue\n",
    "                flag = input(\"\\nThe Number %d and %d are COPRIME ::: Do you wish to continue (Y/N) ? \" %(a,b))\n",
    "            else:\n",
    "                # show the result and capture the user wish to continue\n",
    "                flag = input(\"\\nThe Number %d and %d are NOT COPRIME ::: Do you wish to continue (Y/N) ? \" %(a,b))\n",
    "    except ValueError:\n",
    "        #Diplay the range of numbers that the user can input\n",
    "        print(\"\\nInvalid input. Please enter a number between 2 and 9007199254740991. \")\n",
    "        coprime_test_loop()                                # call the same funtion again to keep the flow alive\n",
    "\n",
    "print('%60s' % \"COPRIME TEST CALCULATOR\")\n",
    "coprime_test_loop()"
   ]
  }
 ],
 "metadata": {
  "kernelspec": {
   "display_name": "Python 3 (ipykernel)",
   "language": "python",
   "name": "python3"
  },
  "language_info": {
   "codemirror_mode": {
    "name": "ipython",
    "version": 3
   },
   "file_extension": ".py",
   "mimetype": "text/x-python",
   "name": "python",
   "nbconvert_exporter": "python",
   "pygments_lexer": "ipython3",
   "version": "3.9.13"
  }
 },
 "nbformat": 4,
 "nbformat_minor": 5
}
