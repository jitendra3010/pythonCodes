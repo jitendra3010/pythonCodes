{
 "cells": [
  {
   "cell_type": "markdown",
   "id": "5dc8e13d",
   "metadata": {},
   "source": [
    "## JITEN MISHRA DSC430_Assignment0601_PalindromeDates\n",
    "### I have not given or received any unauthorized assistance on this assignment."
   ]
  },
  {
   "cell_type": "code",
   "execution_count": 33,
   "id": "d03fc3e9",
   "metadata": {},
   "outputs": [],
   "source": [
    "def printPallindromeDates():\n",
    "    \"\"\"\n",
    "    Function to print the pallindrome dates of 21st century to a file\n",
    "    \"\"\"\n",
    "    \n",
    "    # open a file in write mode\n",
    "    file = open('21stPallindromeDate.txt','w')\n",
    "    \n",
    "    # find the palindrome dates and store in a list\n",
    "    palDates = findPallindromeDates()\n",
    "    \n",
    "    # write the dates to the file\n",
    "    writeToFile(file,palDates)\n",
    "    \n",
    "    # close the file\n",
    "    file.close()\n",
    "       "
   ]
  },
  {
   "cell_type": "code",
   "execution_count": 28,
   "id": "8e600b2a",
   "metadata": {},
   "outputs": [],
   "source": [
    "def findPallindromeDates():\n",
    "    \"\"\"\n",
    "    Function to find all the pallindrome dates\n",
    "    \"\"\"\n",
    "    \n",
    "    # initialize a list dates\n",
    "    lsDates = []\n",
    "    \n",
    "    # loop through 2001 to 2100 all the 21 century years\n",
    "    for year in range(2001,2101):\n",
    "        \n",
    "        # convert the year to string\n",
    "        strYear = str(year)\n",
    "        \n",
    "        # get the reverse of the string year\n",
    "        rev = strYear[::-1]\n",
    "        \n",
    "        # get the date and month\n",
    "        dt = int(rev[0:2])\n",
    "        mon = int(rev[2:4])\n",
    "        \n",
    "        # check if the date and month are valid\n",
    "        validFlag = checkValidDate(year, mon, dt)\n",
    "        \n",
    "        # if valid then complete the reverse string\n",
    "        # append it to the created list\n",
    "        if(validFlag):\n",
    "            rev += strYear\n",
    "            lsDates.append(rev)\n",
    "    \n",
    "    # return the list of dates\n",
    "    return lsDates\n",
    "       "
   ]
  },
  {
   "cell_type": "code",
   "execution_count": 29,
   "id": "c6e95202",
   "metadata": {},
   "outputs": [],
   "source": [
    "def checkValidDate(year, mon, dt):\n",
    "    \"\"\"\n",
    "    Function to check if the provided date is valid or not\n",
    "    \"\"\"\n",
    "    \n",
    "    # check if the month and date are valid or not\n",
    "    if(mon<1 or mon>12):\n",
    "        return False\n",
    "    elif(dt<1 or dt >31):\n",
    "        return False\n",
    "    \n",
    "    # for months Sep, Apr, jun and Nov\n",
    "    # date should be less than equal to 30\n",
    "    if(mon == 4 or mon == 6 or mon == 9 or mon == 11):\n",
    "        if(dt > 30):\n",
    "            return False\n",
    "        \n",
    "    # for february check if it is a leap year\n",
    "    # for leap year the days can be less or equal to 29\n",
    "    # else its less than equal to 28\n",
    "    if( mon == 2):\n",
    "        if(isLeapYear(year)):\n",
    "            if(dt > 29):\n",
    "                return False\n",
    "        elif(dt > 28):\n",
    "            return False\n",
    "    \n",
    "    # return true if all the false checks are passed\n",
    "    return True\n"
   ]
  },
  {
   "cell_type": "code",
   "execution_count": 30,
   "id": "338cdbf2",
   "metadata": {},
   "outputs": [],
   "source": [
    "def isLeapYear(year):\n",
    "    \"\"\"\n",
    "    Function to check if the year is a leap year or not\n",
    "    \"\"\"\n",
    "    \n",
    "    # year multiple of 4 and not multiple of 100\n",
    "    # or year multiple of 400 is a leap year\n",
    "    if( (year%4 == 0 and year%100 != 0) or year%400 == 0):\n",
    "        return True\n",
    "    else:\n",
    "        return False\n"
   ]
  },
  {
   "cell_type": "code",
   "execution_count": 31,
   "id": "d09ddc14",
   "metadata": {},
   "outputs": [],
   "source": [
    "def writeToFile(file,lsDates):\n",
    "    \"\"\"\n",
    "    Function to write the dates to the file\n",
    "    \"\"\"\n",
    "    \n",
    "    # write the heading statement\n",
    "    file.write(\"Pallindrome dates of 21st Century DD/MM/YYYY\\n\")\n",
    "    \n",
    "    # loop the list dates and write the formatted output\n",
    "    for dt in lsDates:\n",
    "        file.write(\"{}/{}/{}\\n\".format(dt[0:2],dt[2:4],dt[4:8]))\n"
   ]
  },
  {
   "cell_type": "code",
   "execution_count": 34,
   "id": "55f10277",
   "metadata": {},
   "outputs": [],
   "source": [
    "printPallindromeDates()"
   ]
  },
  {
   "cell_type": "markdown",
   "id": "2ea990bc",
   "metadata": {},
   "source": [
    "#### How did you iterate through the different dates?\n",
    "   * I iterated in a loop through years from 2001 to 2100 , and generated dates that are a valid pallindrome date in that given year. ( Logic as discussed in the class )\n",
    "\n",
    "#### How did you test if a date was a palindrome date?\n",
    "   * Instead of traversing through each and every single date of a year and chekcing whether they were pallindrome or not, we rather generated pallindrome dates for a given year based on validity.\n",
    "   * For Ex: Given year 2001 -> The pallindrome date for that year will be 10/02/2001\n",
    "   * we first reversed the year 2001 to 1002 , then we got the day as 10 and month as 02 from it.\n",
    "   * after chcecking the validity of the day and the month we concatenated the reversed string with the year again\n",
    "   * so final outcome was 10022001 and while writing it to the file we formatted it as DD/MM/YYY.\n",
    "\n",
    "#### Where you able to ignore entire months or even years without evaluating every date?\n",
    "   * As per the logic we are not traversing through each and every single dates of a months.\n",
    "   * While chekcing the validity of the day and month if the month do not fall in JAN-DEC we ignore the entire year.\n",
    "   * If the day do not fal under the below conditions we ignore the entire year.\n",
    "       * Day has to be between 1-31\n",
    "       * For Sep/Apr/Jun/Nov it should fall between 1-30\n",
    "       * If its a leap year then we check if the month is feb then the day validity is checked for 1-29\n",
    "       * If no a leap year then the day validity is checked for 1-28\n",
    "   * If the criterias are not met then the entire year is skipped."
   ]
  }
 ],
 "metadata": {
  "kernelspec": {
   "display_name": "Python 3 (ipykernel)",
   "language": "python",
   "name": "python3"
  },
  "language_info": {
   "codemirror_mode": {
    "name": "ipython",
    "version": 3
   },
   "file_extension": ".py",
   "mimetype": "text/x-python",
   "name": "python",
   "nbconvert_exporter": "python",
   "pygments_lexer": "ipython3",
   "version": "3.9.13"
  }
 },
 "nbformat": 4,
 "nbformat_minor": 5
}
